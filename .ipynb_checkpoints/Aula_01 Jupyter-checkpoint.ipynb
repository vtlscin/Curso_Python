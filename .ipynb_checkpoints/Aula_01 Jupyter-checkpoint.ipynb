{
 "cells": [
  {
   "cell_type": "markdown",
   "metadata": {},
   "source": [
    "# Jupyter\n",
    "---------------"
   ]
  },
  {
   "cell_type": "markdown",
   "metadata": {},
   "source": [
    "## Instalação e Execução\n",
    "------\n",
    "* [Instalar Pacote Anaconda](https://www.anaconda.com/download/)\n",
    "* Abrir Prompt do Pacote Anaconda\n",
    "* Ir para o diretório de dados \n",
    "* Executar no prompt de comando ´jupyter notebook`"
   ]
  },
  {
   "cell_type": "markdown",
   "metadata": {},
   "source": [
    "### Jupyter Kernels\n",
    "--------------------\n",
    "* Python\n",
    "* Julia\n",
    "* R\n",
    "* C#\n",
    "* F#\n",
    "* Scala\n",
    "* Haskell\n",
    "* etc...\n",
    "\n",
    "Você pode verificar os Kernels em [Jupyter Kernels](https://github.com/jupyter/jupyter/wiki/Jupyter-kernels)"
   ]
  },
  {
   "cell_type": "markdown",
   "metadata": {},
   "source": [
    "## Tipos de célula (Markdown vs Code)\n",
    "---\n",
    "* Markdown (short cut = <mark>M</mark>)\n",
    "* Code (short cut = <mark>Y</mark>)\n",
    "* Executar Células (short cut = <mark>Shift + Enter</mark>)\n"
   ]
  },
  {
   "cell_type": "markdown",
   "metadata": {},
   "source": [
    "### Markdown:\n",
    "\n",
    "#### Latex\n",
    "\n",
    "$e^{i\\pi} + 1 = 0$\n",
    "\n",
    "#### Código\n",
    "\n",
    "Exemplo : Python\n",
    "```python\n",
    "print \"Hello World\"\n",
    "```\n",
    "Exemplo : Javascript\n",
    "```javascript\n",
    "console.log(\"Hello World\")\n",
    "```\n",
    "\n",
    "#### Tabelas\n",
    "\n",
    "| Aluno | Prova | Nota         \n",
    "| :- |-------------: | :-:\n",
    "|Robson Dias | PCOM  | 8.5\n",
    "| Daniel | PCOM | 10.0\n",
    "| Lizandro | PCOM2 | 10.0\n",
    "\n",
    "\n",
    "#### Imagens\n",
    "\n",
    "<img src=\"./imagens/cin.jpg\" />\n",
    "\n",
    "#### Videos\n",
    "<video controls src=\"./videos/video1.mp4\" />"
   ]
  },
  {
   "cell_type": "markdown",
   "metadata": {},
   "source": [
    "### Código:"
   ]
  },
  {
   "cell_type": "code",
   "execution_count": 4,
   "metadata": {},
   "outputs": [],
   "source": [
    "a = 1"
   ]
  },
  {
   "cell_type": "code",
   "execution_count": 5,
   "metadata": {},
   "outputs": [],
   "source": [
    "b = 5"
   ]
  },
  {
   "cell_type": "code",
   "execution_count": 6,
   "metadata": {},
   "outputs": [],
   "source": [
    "c = b ** (a * 2)"
   ]
  },
  {
   "cell_type": "code",
   "execution_count": 7,
   "metadata": {},
   "outputs": [
    {
     "name": "stdout",
     "output_type": "stream",
     "text": [
      "1 5 25\n"
     ]
    }
   ],
   "source": [
    "print(a, b, c)"
   ]
  },
  {
   "cell_type": "markdown",
   "metadata": {},
   "source": [
    "## Principais Atalhos\n",
    "---\n",
    "* Executar Célula (<mark>SHIFT + ENTER</mark>)\n",
    "* Inserir Célula Acima (<mark>A</mark>)\n",
    "* Inserir Célula Abaixo (<mark>B</mark>)\n",
    "* Markdown (<mark>M</mark>)\n",
    "* Código (<mark>Y</mark>)\n",
    "* Apagar Céluda (<mark>D+D</mark>)\n",
    "* Retorna última Celula apagada (<mark>Z</mark>)\n",
    "* Copiar Célula (<mark>C</mark>)\n",
    "* Salvar (<mark>CTRL + S</mark>)\n"
   ]
  }
 ],
 "metadata": {
  "kernelspec": {
   "display_name": "Python 3",
   "language": "python",
   "name": "python3"
  },
  "language_info": {
   "codemirror_mode": {
    "name": "ipython",
    "version": 3
   },
   "file_extension": ".py",
   "mimetype": "text/x-python",
   "name": "python",
   "nbconvert_exporter": "python",
   "pygments_lexer": "ipython3",
   "version": "3.7.1"
  }
 },
 "nbformat": 4,
 "nbformat_minor": 2
}
