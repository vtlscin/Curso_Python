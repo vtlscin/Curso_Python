{
 "cells": [
  {
   "cell_type": "markdown",
   "metadata": {},
   "source": [
    "### scikit-learn: machine learning in Python (https://scikit-learn.org/stable/)"
   ]
  },
  {
   "cell_type": "markdown",
   "metadata": {},
   "source": [
    "## Comparing models"
   ]
  },
  {
   "cell_type": "code",
   "execution_count": 1,
   "metadata": {},
   "outputs": [],
   "source": [
    "import sklearn\n",
    "import numpy as np\n",
    "import pandas as pd\n",
    "from matplotlib import pyplot as plt\n",
    "import seaborn as sns\n",
    "%matplotlib inline"
   ]
  },
  {
   "cell_type": "code",
   "execution_count": 2,
   "metadata": {},
   "outputs": [
    {
     "data": {
      "text/html": [
       "<div>\n",
       "<style scoped>\n",
       "    .dataframe tbody tr th:only-of-type {\n",
       "        vertical-align: middle;\n",
       "    }\n",
       "\n",
       "    .dataframe tbody tr th {\n",
       "        vertical-align: top;\n",
       "    }\n",
       "\n",
       "    .dataframe thead th {\n",
       "        text-align: right;\n",
       "    }\n",
       "</style>\n",
       "<table border=\"1\" class=\"dataframe\">\n",
       "  <thead>\n",
       "    <tr style=\"text-align: right;\">\n",
       "      <th></th>\n",
       "      <th>total_bill</th>\n",
       "      <th>tip</th>\n",
       "      <th>sex</th>\n",
       "      <th>smoker</th>\n",
       "      <th>day</th>\n",
       "      <th>time</th>\n",
       "      <th>size</th>\n",
       "    </tr>\n",
       "  </thead>\n",
       "  <tbody>\n",
       "    <tr>\n",
       "      <th>0</th>\n",
       "      <td>16.99</td>\n",
       "      <td>1.01</td>\n",
       "      <td>Female</td>\n",
       "      <td>No</td>\n",
       "      <td>Sun</td>\n",
       "      <td>Dinner</td>\n",
       "      <td>2</td>\n",
       "    </tr>\n",
       "    <tr>\n",
       "      <th>1</th>\n",
       "      <td>10.34</td>\n",
       "      <td>1.66</td>\n",
       "      <td>Male</td>\n",
       "      <td>No</td>\n",
       "      <td>Sun</td>\n",
       "      <td>Dinner</td>\n",
       "      <td>3</td>\n",
       "    </tr>\n",
       "    <tr>\n",
       "      <th>2</th>\n",
       "      <td>21.01</td>\n",
       "      <td>3.50</td>\n",
       "      <td>Male</td>\n",
       "      <td>No</td>\n",
       "      <td>Sun</td>\n",
       "      <td>Dinner</td>\n",
       "      <td>3</td>\n",
       "    </tr>\n",
       "    <tr>\n",
       "      <th>3</th>\n",
       "      <td>23.68</td>\n",
       "      <td>3.31</td>\n",
       "      <td>Male</td>\n",
       "      <td>No</td>\n",
       "      <td>Sun</td>\n",
       "      <td>Dinner</td>\n",
       "      <td>2</td>\n",
       "    </tr>\n",
       "    <tr>\n",
       "      <th>4</th>\n",
       "      <td>24.59</td>\n",
       "      <td>3.61</td>\n",
       "      <td>Female</td>\n",
       "      <td>No</td>\n",
       "      <td>Sun</td>\n",
       "      <td>Dinner</td>\n",
       "      <td>4</td>\n",
       "    </tr>\n",
       "  </tbody>\n",
       "</table>\n",
       "</div>"
      ],
      "text/plain": [
       "   total_bill   tip     sex smoker  day    time  size\n",
       "0       16.99  1.01  Female     No  Sun  Dinner     2\n",
       "1       10.34  1.66    Male     No  Sun  Dinner     3\n",
       "2       21.01  3.50    Male     No  Sun  Dinner     3\n",
       "3       23.68  3.31    Male     No  Sun  Dinner     2\n",
       "4       24.59  3.61  Female     No  Sun  Dinner     4"
      ]
     },
     "execution_count": 2,
     "metadata": {},
     "output_type": "execute_result"
    }
   ],
   "source": [
    "tips = sns.load_dataset(\"tips\")\n",
    "tips.head()"
   ]
  },
  {
   "cell_type": "markdown",
   "metadata": {},
   "source": [
    "### For classification"
   ]
  },
  {
   "cell_type": "code",
   "execution_count": 13,
   "metadata": {},
   "outputs": [
    {
     "name": "stdout",
     "output_type": "stream",
     "text": [
      "[1 1 0 0 1 1 1 1 1 1 1 1 1 0 1 1 1 1 1 1 1 1 1 1 0 1 1 0 0 0 1 1 1 1 0 1 1\n",
      " 0 1 1 1 0 0 0 1 0 1 1 1 0 1 0 1 1 1 1 1 0 1 0 0 1 0 0 0 1 0 1 0 0 1 0 0 1]\n"
     ]
    }
   ],
   "source": [
    "X = tips.drop(\"sex\", axis = 1)\n",
    "y = tips[\"sex\"]\n",
    "\n",
    "from sklearn.preprocessing import LabelEncoder\n",
    "lb = LabelEncoder()\n",
    "X['smoker'] = lb.fit_transform(X['smoker'])\n",
    "X['day'] = lb.fit_transform(X['day'])\n",
    "X['time'] = lb.fit_transform(X['time'])\n",
    "\n",
    "y = lb.fit_transform(y)\n",
    "\n",
    "from sklearn.model_selection import train_test_split\n",
    "X_train, X_test, y_train, y_test = train_test_split(X, y, test_size = 0.3, random_state = 100)\n",
    "print(y_test)"
   ]
  },
  {
   "cell_type": "code",
   "execution_count": 4,
   "metadata": {},
   "outputs": [
    {
     "data": {
      "text/plain": [
       "SVC(C=1.0, cache_size=200, class_weight=None, coef0=0.0,\n",
       "  decision_function_shape='ovr', degree=3, gamma='auto', kernel='rbf',\n",
       "  max_iter=-1, probability=False, random_state=None, shrinking=True,\n",
       "  tol=0.001, verbose=False)"
      ]
     },
     "execution_count": 4,
     "metadata": {},
     "output_type": "execute_result"
    }
   ],
   "source": [
    "from sklearn.svm import SVC\n",
    "clf1 = SVC(gamma=\"auto\")\n",
    "clf1.fit(X_train, y_train)"
   ]
  },
  {
   "cell_type": "code",
   "execution_count": 5,
   "metadata": {},
   "outputs": [
    {
     "data": {
      "text/plain": [
       "array([1, 1, 1, 1, 1, 1, 1, 1, 1, 1, 1, 1, 1, 1, 1, 0, 1, 1, 1, 1, 1, 1,\n",
       "       1, 1, 1, 1, 1, 1, 1, 0, 1, 1, 1, 1, 1, 1, 1, 1, 1, 1, 1, 0, 1, 1,\n",
       "       1, 1, 1, 1, 1, 1, 1, 1, 1, 1, 1, 1, 1, 1, 1, 1, 1, 1, 0, 1, 1, 1,\n",
       "       1, 1, 1, 0, 1, 1, 0, 1])"
      ]
     },
     "execution_count": 5,
     "metadata": {},
     "output_type": "execute_result"
    }
   ],
   "source": [
    "pred1 = clf1.predict(X_test)\n",
    "pred1"
   ]
  },
  {
   "cell_type": "code",
   "execution_count": 9,
   "metadata": {},
   "outputs": [
    {
     "data": {
      "text/plain": [
       "KNeighborsClassifier(algorithm='auto', leaf_size=30, metric='minkowski',\n",
       "           metric_params=None, n_jobs=None, n_neighbors=5, p=2,\n",
       "           weights='uniform')"
      ]
     },
     "execution_count": 9,
     "metadata": {},
     "output_type": "execute_result"
    }
   ],
   "source": [
    "from sklearn.neighbors import KNeighborsClassifier\n",
    "clf2 = KNeighborsClassifier(n_neighbors=5)\n",
    "clf2.fit(X_train, y_train)"
   ]
  },
  {
   "cell_type": "code",
   "execution_count": 10,
   "metadata": {},
   "outputs": [
    {
     "data": {
      "text/plain": [
       "array([1, 1, 1, 1, 1, 1, 1, 1, 1, 1, 1, 1, 1, 1, 1, 1, 1, 1, 0, 1, 1, 1,\n",
       "       1, 0, 1, 1, 1, 1, 1, 0, 1, 1, 1, 1, 1, 1, 1, 1, 1, 1, 0, 0, 1, 1,\n",
       "       1, 1, 1, 1, 1, 1, 1, 1, 1, 1, 0, 1, 1, 1, 1, 1, 1, 1, 0, 1, 1, 1,\n",
       "       1, 1, 1, 0, 1, 0, 0, 1])"
      ]
     },
     "execution_count": 10,
     "metadata": {},
     "output_type": "execute_result"
    }
   ],
   "source": [
    "pred2 = clf2.predict(X_test)\n",
    "pred2"
   ]
  },
  {
   "cell_type": "markdown",
   "metadata": {},
   "source": [
    "https://scikit-learn.org/stable/modules/model_evaluation.html#classification-metrics"
   ]
  },
  {
   "cell_type": "code",
   "execution_count": 12,
   "metadata": {},
   "outputs": [
    {
     "name": "stdout",
     "output_type": "stream",
     "text": [
      "SVC Accuracy: 0.7027027027027027; KNN Accuracy: 0.6756756756756757\n",
      "SVC Matrix: \n",
      "[[ 5  1]\n",
      " [21 47]]\n",
      "KNN Matrix: \n",
      "[[ 6  4]\n",
      " [20 44]]\n"
     ]
    }
   ],
   "source": [
    "from sklearn.metrics import accuracy_score, classification_report, confusion_matrix\n",
    "acc1 = accuracy_score(pred1, y_test)\n",
    "acc2 = accuracy_score(pred2, y_test)\n",
    "print(\"SVC Accuracy: {}; KNN Accuracy: {}\".format(acc1, acc2))\n",
    "\n",
    "# clr1 = classification_report(pred1, y_test)\n",
    "# clr2 = classification_report(pred2, y_test)\n",
    "# print(\"SVC Report: {}\".format(clr1))\n",
    "# print(\"KNN Report: {}\".format(clr2))\n",
    "\n",
    "cmat1 = confusion_matrix(pred1, y_test)\n",
    "cmat2 = confusion_matrix(pred2, y_test)\n",
    "print(\"SVC Matrix: \\n{}\".format(cmat1))\n",
    "print(\"KNN Matrix: \\n{}\".format(cmat2))"
   ]
  },
  {
   "cell_type": "markdown",
   "metadata": {},
   "source": [
    "### For regression"
   ]
  },
  {
   "cell_type": "markdown",
   "metadata": {},
   "source": [
    "#### Regression metrics\n",
    "##### Mean Absolute Error (MAE)\n",
    "\n",
    "$MAE=\\frac{1}{n}\\sum\\limits^{n}_{i=1}|y_i - \\hat{y}_i|$\n",
    "\n",
    "##### Mean Square Error (MSE)\n",
    "\n",
    "$MSE=\\frac{1}{n}\\sum\\limits^{n}_{i=1}(y_i - \\hat{y}_i)^2$\n",
    "\n",
    "##### Root Mean Square Error (RMSE)\n",
    "\n",
    "$RMSE=\\sqrt{\\frac{1}{n}\\sum\\limits^{n}_{i=1}(y_i - \\hat{y}_i)^2}$\n",
    "\n",
    "https://scikit-learn.org/stable/modules/model_evaluation.html#regression-metrics"
   ]
  },
  {
   "cell_type": "code",
   "execution_count": 14,
   "metadata": {},
   "outputs": [],
   "source": [
    "X = tips.drop('tip', axis = 1)\n",
    "y = tips['tip']\n",
    "\n",
    "from sklearn.preprocessing import LabelEncoder\n",
    "lb = LabelEncoder()\n",
    "X['sex'] = lb.fit_transform(X['sex'])\n",
    "X['smoker'] = lb.fit_transform(X['smoker'])\n",
    "X['day'] = lb.fit_transform(X['day'])\n",
    "X['time'] = lb.fit_transform(X['time'])\n",
    "\n",
    "from sklearn.model_selection import train_test_split\n",
    "X_train, X_test, y_train, y_test = train_test_split(X, y, test_size = 0.3, random_state = 100)"
   ]
  },
  {
   "cell_type": "code",
   "execution_count": 15,
   "metadata": {},
   "outputs": [
    {
     "data": {
      "text/plain": [
       "array([2.94128758, 5.32430461, 2.91846337, 1.85671474, 4.46205652,\n",
       "       2.31404436, 2.43323748, 3.06132604, 2.29713754, 4.00641758,\n",
       "       2.41125861, 2.79504354, 3.33268059, 4.18816595, 2.9928534 ,\n",
       "       5.07746496, 2.51269956, 2.26078786, 2.65218087, 2.57018277,\n",
       "       3.12303595, 4.72580299, 3.69786802, 2.70290135, 3.76295929,\n",
       "       2.97932794, 2.37406359, 2.3782903 , 2.32249778, 2.32080709,\n",
       "       2.73079761, 1.89813646, 3.24561044, 3.2735067 , 2.51692627,\n",
       "       3.54993329, 5.32937666, 2.72065351, 2.3782903 , 2.71980817,\n",
       "       2.42732009, 2.20584068, 3.01060557, 4.27270008, 2.13229599,\n",
       "       3.62516867, 2.98947203, 3.78493817, 2.1754084 , 2.90493791,\n",
       "       2.42224805, 2.70712805, 3.3166191 , 1.96914513, 3.65729163,\n",
       "       2.15427486, 4.57617759, 2.11707985, 2.89141245, 2.5769455 ,\n",
       "       4.18647527, 5.3158512 , 2.35631143, 3.35719549, 4.22451562,\n",
       "       3.06808877, 2.54397719, 2.74939512, 2.13905872, 2.14413077,\n",
       "       2.58032686, 2.67500508, 2.29882822, 2.3537754 ])"
      ]
     },
     "execution_count": 15,
     "metadata": {},
     "output_type": "execute_result"
    }
   ],
   "source": [
    "from sklearn.linear_model import ElasticNet\n",
    "reg1 = ElasticNet()\n",
    "reg1.fit(X_train, y_train)\n",
    "pred1 = reg1.predict(X_test)\n",
    "pred1"
   ]
  },
  {
   "cell_type": "code",
   "execution_count": 16,
   "metadata": {
    "scrolled": true
   },
   "outputs": [
    {
     "data": {
      "text/plain": [
       "array([ 2.79928685, 10.77433693,  2.95938006,  3.75078949,  4.26054048,\n",
       "        1.98839491,  2.27938657,  3.35411508,  2.23194256,  2.71689957,\n",
       "        2.27938657,  3.2176917 ,  2.8059341 ,  4.98560523,  2.85560201,\n",
       "        2.90898139,  2.32530994,  2.32184396,  2.83473811,  2.53813475,\n",
       "        3.10851565,  4.92426651,  3.59230201,  2.67065197,  5.80980399,\n",
       "        3.2471535 ,  2.32635137,  2.53808044,  1.58114197,  1.42844204,\n",
       "        2.7471743 ,  1.97387915,  3.02314711,  3.90789162,  2.17937427,\n",
       "        2.94638647, 10.77433693,  2.59754435,  2.50050518,  2.65100371,\n",
       "        2.32635137,  1.68360833,  3.31535013,  4.32500577,  1.73099483,\n",
       "        3.18199816,  2.88521328,  2.94706003,  1.93243346,  2.77963859,\n",
       "        2.27938657,  2.65100371,  2.5644869 ,  2.02237003,  3.63708118,\n",
       "        1.73099483,  4.46568195,  1.68360833,  2.70311626,  2.42802838,\n",
       "        4.80149441, 11.27228474,  2.03183021,  4.39831506,  4.80149441,\n",
       "        3.10851565,  2.5705646 ,  2.17608615,  2.01615121,  1.68360833,\n",
       "        2.57396406,  2.94444897,  1.89832083,  2.14484906])"
      ]
     },
     "execution_count": 16,
     "metadata": {},
     "output_type": "execute_result"
    }
   ],
   "source": [
    "from sklearn.ensemble import GradientBoostingRegressor\n",
    "reg2 = GradientBoostingRegressor()\n",
    "reg2.fit(X_train, y_train)\n",
    "pred2 = reg2.predict(X_test)\n",
    "pred2"
   ]
  },
  {
   "cell_type": "code",
   "execution_count": 17,
   "metadata": {},
   "outputs": [
    {
     "data": {
      "text/plain": [
       "array([2.99458303, 5.48883717, 2.85987142, 1.68652164, 4.51493296,\n",
       "       2.25561894, 2.37477922, 3.2264821 , 2.23871678, 3.94752587,\n",
       "       2.3528064 , 2.96027297, 3.27397451, 4.35301154, 3.26992201,\n",
       "       5.13017184, 2.45421941, 2.20237712, 2.59366228, 2.51168677,\n",
       "       3.06438764, 5.00239414, 3.75095501, 2.75626247, 4.15170941,\n",
       "       3.14450659, 2.31562164, 2.31984718, 2.26407003, 2.26237981,\n",
       "       2.78415105, 1.83982563, 3.18692835, 3.4386043 , 2.45844495,\n",
       "       3.49116736, 5.49390782, 2.66211606, 2.31984718, 2.66127095,\n",
       "       2.36886346, 2.14744507, 3.06388191, 4.32562869, 2.07392065,\n",
       "       3.67827569, 3.04275421, 3.83800117, 2.11702117, 2.84634968,\n",
       "       2.36379281, 2.64859433, 3.36981114, 1.79892105, 3.71038981,\n",
       "       2.09589346, 4.74091628, 2.0587087 , 2.83282795, 2.51844764,\n",
       "       4.35132132, 5.70417346, 2.29787436, 3.52227003, 4.3893512 ,\n",
       "       3.0094556 , 2.48548842, 2.91463712, 2.08068151, 2.08575216,\n",
       "       2.52182807, 2.7283739 , 2.24040699, 2.29533904])"
      ]
     },
     "execution_count": 17,
     "metadata": {},
     "output_type": "execute_result"
    }
   ],
   "source": [
    "from sklearn.linear_model import Lasso\n",
    "reg3 = Lasso(alpha=0.1)\n",
    "reg3.fit(X_train, y_train)\n",
    "pred3 = reg3.predict(X_test)\n",
    "pred3"
   ]
  },
  {
   "cell_type": "code",
   "execution_count": 18,
   "metadata": {},
   "outputs": [
    {
     "data": {
      "text/plain": [
       "array([3.05130523, 5.42156618, 2.70603851, 1.41023718, 4.43171401,\n",
       "       2.26520489, 2.36854665, 3.52142392, 2.12677599, 3.74172072,\n",
       "       2.34949072, 3.2286688 , 3.02313067, 4.28074964, 3.76621615,\n",
       "       5.09973256, 2.51000851, 2.22971303, 2.43312987, 2.62173234,\n",
       "       2.96660957, 5.14345954, 3.70726885, 2.90650697, 4.52040829,\n",
       "       3.45954015, 2.25535698, 2.05204672, 2.25268761, 2.1878639 ,\n",
       "       2.86880809, 1.97717549, 3.07288301, 3.77795426, 2.28680665,\n",
       "       3.34741641, 5.4259637 , 2.40008256, 2.14446057, 2.61700661,\n",
       "       2.30153096, 1.95373413, 3.2153287 , 4.11324077, 2.04574179,\n",
       "       3.68627647, 3.09308169, 3.91721225, 2.21757333, 2.62321705,\n",
       "       2.35901869, 2.51359896, 3.43860707, 1.48556841, 3.73397393,\n",
       "       2.06479772, 4.77293176, 1.87677751, 2.76578942, 2.33884399,\n",
       "       4.40452692, 6.08443975, 2.08419394, 3.68553216, 4.43750833,\n",
       "       2.91896976, 2.38282746, 3.1890911 , 2.09364391, 1.90023096,\n",
       "       2.56864213, 2.72802151, 2.03435536, 2.29965215])"
      ]
     },
     "execution_count": 18,
     "metadata": {},
     "output_type": "execute_result"
    }
   ],
   "source": [
    "from sklearn.gaussian_process import GaussianProcessRegressor\n",
    "from sklearn.gaussian_process.kernels import DotProduct, WhiteKernel\n",
    "reg4 = GaussianProcessRegressor(kernel = DotProduct() + WhiteKernel())\n",
    "reg4.fit(X_train, y_train)\n",
    "pred4 = reg4.predict(X_test)\n",
    "pred4"
   ]
  },
  {
   "cell_type": "code",
   "execution_count": 19,
   "metadata": {
    "scrolled": true
   },
   "outputs": [
    {
     "name": "stdout",
     "output_type": "stream",
     "text": [
      "REG1: 0.7660070792443283 1.115718985625195 1.056275998792548\n",
      "REG2: 0.9112665955186925 1.9445644245249523 1.3944763979806012\n",
      "REG3: 0.7430718714117783 1.0666680750216435 1.0327962408053408\n",
      "REG4: 0.7849578507063836 1.158058957583082 1.076131477833021\n"
     ]
    }
   ],
   "source": [
    "from sklearn.metrics import mean_absolute_error, mean_squared_error\n",
    "print(\"REG1:\", mean_absolute_error(y_test, pred1), mean_squared_error(y_test, pred1), np.sqrt(mean_squared_error(y_test, pred1)))\n",
    "print(\"REG2:\", mean_absolute_error(y_test, pred2), mean_squared_error(y_test, pred2), np.sqrt(mean_squared_error(y_test, pred2)))\n",
    "print(\"REG3:\", mean_absolute_error(y_test, pred3), mean_squared_error(y_test, pred3), np.sqrt(mean_squared_error(y_test, pred3)))\n",
    "print(\"REG4:\", mean_absolute_error(y_test, pred4), mean_squared_error(y_test, pred4), np.sqrt(mean_squared_error(y_test, pred4)))"
   ]
  },
  {
   "cell_type": "markdown",
   "metadata": {},
   "source": [
    "## Finding optimal parameters"
   ]
  },
  {
   "cell_type": "code",
   "execution_count": 20,
   "metadata": {},
   "outputs": [
    {
     "name": "stdout",
     "output_type": "stream",
     "text": [
      "Best number of neighbors is 21 with RMSE equals to 1.149155019699308\n"
     ]
    }
   ],
   "source": [
    "from sklearn.neighbors import KNeighborsRegressor\n",
    "ks = np.arange(1,31)\n",
    "results = np.zeros(30)\n",
    "for k in ks:\n",
    "    knn = KNeighborsRegressor(n_neighbors = k)\n",
    "    knn.fit(X_train, y_train)\n",
    "    y_pred = knn.predict(X_test)\n",
    "    results[k-1] = np.sqrt(mean_squared_error(y_test, y_pred))\n",
    "best_k = results.argmin() + 1\n",
    "low_rmse = results.min()\n",
    "print (\"Best number of neighbors is {} with RMSE equals to {}\".format(best_k, low_rmse))    "
   ]
  },
  {
   "cell_type": "code",
   "execution_count": 21,
   "metadata": {},
   "outputs": [
    {
     "data": {
      "text/plain": [
       "Text(0.5, 1.0, 'RMSE vs Number of neighbors')"
      ]
     },
     "execution_count": 21,
     "metadata": {},
     "output_type": "execute_result"
    },
    {
     "data": {
      "image/png": "[encoded data removed]",
      "text/plain": [
       "<Figure size 864x432 with 1 Axes>"
      ]
     },
     "metadata": {
      "needs_background": "light"
     },
     "output_type": "display_data"
    }
   ],
   "source": [
    "plt.figure(figsize=(12, 6))\n",
    "plt.plot(ks, results, marker='o', linestyle='--', color='blue')\n",
    "plt.title(\"RMSE vs Number of neighbors\")"
   ]
  },
  {
   "cell_type": "markdown",
   "metadata": {
    "collapsed": true
   },
   "source": [
    "### Cross-validation - http://scikit-learn.org/stable/modules/model_evaluation.html"
   ]
  },
  {
   "cell_type": "code",
   "execution_count": 22,
   "metadata": {},
   "outputs": [
    {
     "data": {
      "text/plain": [
       "{'n_neighbors': 27}"
      ]
     },
     "execution_count": 22,
     "metadata": {},
     "output_type": "execute_result"
    }
   ],
   "source": [
    "from sklearn.model_selection import GridSearchCV\n",
    "parameters = {'n_neighbors': list(range(1, 31))}\n",
    "knn = KNeighborsRegressor()\n",
    "grid = GridSearchCV(\n",
    "    knn,\n",
    "    parameters,\n",
    "    cv = 10,\n",
    "    scoring = 'neg_mean_squared_error',\n",
    "    return_train_score = True,\n",
    "    refit = True\n",
    ")\n",
    "grid.fit(X_train, y_train)\n",
    "# grid.cv_results_\n",
    "grid.best_params_"
   ]
  },
  {
   "cell_type": "code",
   "execution_count": 23,
   "metadata": {
    "scrolled": true
   },
   "outputs": [
    {
     "data": {
      "text/plain": [
       "Text(0, 0.5, 'RMSE 10-CV')"
      ]
     },
     "execution_count": 23,
     "metadata": {},
     "output_type": "execute_result"
    },
    {
     "data": {
      "image/png": "[encoded data removed]",
      "text/plain": [
       "<Figure size 864x432 with 1 Axes>"
      ]
     },
     "metadata": {
      "needs_background": "light"
     },
     "output_type": "display_data"
    }
   ],
   "source": [
    "# Training errors\n",
    "mean_cv_train = grid.cv_results_['mean_train_score']\n",
    "rmse_cv_train = np.sqrt(np.abs(mean_cv_train))\n",
    "\n",
    "# Test errors\n",
    "mean_cv_test = grid.cv_results_['mean_test_score']\n",
    "rmse_cv_test = np.sqrt(np.abs(mean_cv_test))\n",
    "\n",
    "# Plotting\n",
    "plt.figure(figsize=(12,6))\n",
    "plt.plot(ks,rmse_cv_test, marker = 'o', linestyle = '--', color = 'red')\n",
    "plt.plot(ks,rmse_cv_train, marker = 'o', linestyle = '--', color = 'green')\n",
    "plt.legend(['Train', 'Test'], loc = (0.8, 0.2))\n",
    "plt.title(\"Cross validation RMSE vs Number of neighbors\")\n",
    "plt.xlabel('Number of neighbors')\n",
    "plt.ylabel('RMSE 10-CV')"
   ]
  },
  {
   "cell_type": "code",
   "execution_count": 24,
   "metadata": {},
   "outputs": [
    {
     "data": {
      "text/plain": [
       "1.190701523584485"
      ]
     },
     "execution_count": 24,
     "metadata": {},
     "output_type": "execute_result"
    }
   ],
   "source": [
    "best_knn = grid.best_estimator_\n",
    "best_pred = best_knn.predict(X_test)\n",
    "np.sqrt(mean_squared_error(y_test, best_pred))"
   ]
  },
  {
   "cell_type": "code",
   "execution_count": null,
   "metadata": {},
   "outputs": [],
   "source": []
  }
 ],
 "metadata": {
  "kernelspec": {
   "display_name": "Python 3",
   "language": "python",
   "name": "python3"
  },
  "language_info": {
   "codemirror_mode": {
    "name": "ipython",
    "version": 3
   },
   "file_extension": ".py",
   "mimetype": "text/x-python",
   "name": "python",
   "nbconvert_exporter": "python",
   "pygments_lexer": "ipython3",
   "version": "3.7.1"
  }
 },
 "nbformat": 4,
 "nbformat_minor": 2
}
