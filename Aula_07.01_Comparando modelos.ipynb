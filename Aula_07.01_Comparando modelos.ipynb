{
 "cells": [
  {
   "cell_type": "markdown",
   "metadata": {},
   "source": [
    "### scikit-learn: machine learning in Python (https://scikit-learn.org/stable/)"
   ]
  },
  {
   "cell_type": "markdown",
   "metadata": {},
   "source": [
    "## Comparing models"
   ]
  },
  {
   "cell_type": "code",
   "execution_count": 1,
   "metadata": {},
   "outputs": [],
   "source": [
    "import sklearn\n",
    "import numpy as np\n",
    "import pandas as pd\n",
    "from matplotlib import pyplot as plt\n",
    "import seaborn as sns\n",
    "%matplotlib inline"
   ]
  },
  {
   "cell_type": "code",
   "execution_count": 2,
   "metadata": {},
   "outputs": [
    {
     "data": {
      "text/html": [
       "<div>\n",
       "<style scoped>\n",
       "    .dataframe tbody tr th:only-of-type {\n",
       "        vertical-align: middle;\n",
       "    }\n",
       "\n",
       "    .dataframe tbody tr th {\n",
       "        vertical-align: top;\n",
       "    }\n",
       "\n",
       "    .dataframe thead th {\n",
       "        text-align: right;\n",
       "    }\n",
       "</style>\n",
       "<table border=\"1\" class=\"dataframe\">\n",
       "  <thead>\n",
       "    <tr style=\"text-align: right;\">\n",
       "      <th></th>\n",
       "      <th>total_bill</th>\n",
       "      <th>tip</th>\n",
       "      <th>sex</th>\n",
       "      <th>smoker</th>\n",
       "      <th>day</th>\n",
       "      <th>time</th>\n",
       "      <th>size</th>\n",
       "    </tr>\n",
       "  </thead>\n",
       "  <tbody>\n",
       "    <tr>\n",
       "      <th>0</th>\n",
       "      <td>16.99</td>\n",
       "      <td>1.01</td>\n",
       "      <td>Female</td>\n",
       "      <td>No</td>\n",
       "      <td>Sun</td>\n",
       "      <td>Dinner</td>\n",
       "      <td>2</td>\n",
       "    </tr>\n",
       "    <tr>\n",
       "      <th>1</th>\n",
       "      <td>10.34</td>\n",
       "      <td>1.66</td>\n",
       "      <td>Male</td>\n",
       "      <td>No</td>\n",
       "      <td>Sun</td>\n",
       "      <td>Dinner</td>\n",
       "      <td>3</td>\n",
       "    </tr>\n",
       "    <tr>\n",
       "      <th>2</th>\n",
       "      <td>21.01</td>\n",
       "      <td>3.50</td>\n",
       "      <td>Male</td>\n",
       "      <td>No</td>\n",
       "      <td>Sun</td>\n",
       "      <td>Dinner</td>\n",
       "      <td>3</td>\n",
       "    </tr>\n",
       "    <tr>\n",
       "      <th>3</th>\n",
       "      <td>23.68</td>\n",
       "      <td>3.31</td>\n",
       "      <td>Male</td>\n",
       "      <td>No</td>\n",
       "      <td>Sun</td>\n",
       "      <td>Dinner</td>\n",
       "      <td>2</td>\n",
       "    </tr>\n",
       "    <tr>\n",
       "      <th>4</th>\n",
       "      <td>24.59</td>\n",
       "      <td>3.61</td>\n",
       "      <td>Female</td>\n",
       "      <td>No</td>\n",
       "      <td>Sun</td>\n",
       "      <td>Dinner</td>\n",
       "      <td>4</td>\n",
       "    </tr>\n",
       "  </tbody>\n",
       "</table>\n",
       "</div>"
      ],
      "text/plain": [
       "   total_bill   tip     sex smoker  day    time  size\n",
       "0       16.99  1.01  Female     No  Sun  Dinner     2\n",
       "1       10.34  1.66    Male     No  Sun  Dinner     3\n",
       "2       21.01  3.50    Male     No  Sun  Dinner     3\n",
       "3       23.68  3.31    Male     No  Sun  Dinner     2\n",
       "4       24.59  3.61  Female     No  Sun  Dinner     4"
      ]
     },
     "execution_count": 2,
     "metadata": {},
     "output_type": "execute_result"
    }
   ],
   "source": [
    "tips = sns.load_dataset(\"tips\")\n",
    "tips.head()"
   ]
  },
  {
   "cell_type": "markdown",
   "metadata": {},
   "source": [
    "### For classification"
   ]
  },
  {
   "cell_type": "code",
   "execution_count": 3,
   "metadata": {},
   "outputs": [
    {
     "name": "stdout",
     "output_type": "stream",
     "text": [
      "[1 1 0 0 1 1 1 1 1 1 1 1 1 0 1 1 1 1 1 1 1 1 1 1 0 1 1 0 0 0 1 1 1 1 0 1 1\n",
      " 0 1 1 1 0 0 0 1 0 1 1 1 0 1 0 1 1 1 1 1 0 1 0 0 1 0 0 0 1 0 1 0 0 1 0 0 1]\n"
     ]
    }
   ],
   "source": [
    "X = tips.drop(\"sex\", axis = 1)\n",
    "y = tips[\"sex\"]\n",
    "\n",
    "from sklearn.preprocessing import LabelEncoder\n",
    "lb = LabelEncoder()\n",
    "X['smoker'] = lb.fit_transform(X['smoker'])\n",
    "X['day'] = lb.fit_transform(X['day'])\n",
    "X['time'] = lb.fit_transform(X['time'])\n",
    "\n",
    "y = lb.fit_transform(y)\n",
    "\n",
    "from sklearn.model_selection import train_test_split\n",
    "X_train, X_test, y_train, y_test = train_test_split(X, y, test_size = 0.3, random_state = 100)\n",
    "print(y_test)"
   ]
  },
  {
   "cell_type": "code",
   "execution_count": 4,
   "metadata": {},
   "outputs": [
    {
     "data": {
      "text/plain": [
       "SVC(C=1.0, cache_size=200, class_weight=None, coef0=0.0,\n",
       "    decision_function_shape='ovr', degree=3, gamma='auto', kernel='rbf',\n",
       "    max_iter=-1, probability=False, random_state=None, shrinking=True,\n",
       "    tol=0.001, verbose=False)"
      ]
     },
     "execution_count": 4,
     "metadata": {},
     "output_type": "execute_result"
    }
   ],
   "source": [
    "from sklearn.svm import SVC\n",
    "clf1 = SVC(gamma=\"auto\")\n",
    "clf1.fit(X_train, y_train)"
   ]
  },
  {
   "cell_type": "code",
   "execution_count": 5,
   "metadata": {},
   "outputs": [
    {
     "data": {
      "text/plain": [
       "array([1, 1, 1, 1, 1, 1, 1, 1, 1, 1, 1, 1, 1, 1, 1, 0, 1, 1, 1, 1, 1, 1,\n",
       "       1, 1, 1, 1, 1, 1, 1, 0, 1, 1, 1, 1, 1, 1, 1, 1, 1, 1, 1, 0, 1, 1,\n",
       "       1, 1, 1, 1, 1, 1, 1, 1, 1, 1, 1, 1, 1, 1, 1, 1, 1, 1, 0, 1, 1, 1,\n",
       "       1, 1, 1, 0, 1, 1, 0, 1])"
      ]
     },
     "execution_count": 5,
     "metadata": {},
     "output_type": "execute_result"
    }
   ],
   "source": [
    "pred1 = clf1.predict(X_test)\n",
    "pred1"
   ]
  },
  {
   "cell_type": "code",
   "execution_count": 6,
   "metadata": {},
   "outputs": [
    {
     "data": {
      "text/plain": [
       "KNeighborsClassifier(algorithm='auto', leaf_size=30, metric='minkowski',\n",
       "                     metric_params=None, n_jobs=None, n_neighbors=5, p=2,\n",
       "                     weights='uniform')"
      ]
     },
     "execution_count": 6,
     "metadata": {},
     "output_type": "execute_result"
    }
   ],
   "source": [
    "from sklearn.neighbors import KNeighborsClassifier\n",
    "clf2 = KNeighborsClassifier(n_neighbors=5)\n",
    "clf2.fit(X_train, y_train)"
   ]
  },
  {
   "cell_type": "code",
   "execution_count": 7,
   "metadata": {},
   "outputs": [
    {
     "data": {
      "text/plain": [
       "array([1, 1, 1, 1, 1, 1, 1, 1, 1, 1, 1, 1, 1, 1, 1, 1, 1, 1, 0, 1, 1, 1,\n",
       "       1, 0, 1, 1, 1, 1, 1, 0, 1, 1, 1, 1, 1, 1, 1, 1, 1, 1, 0, 0, 1, 1,\n",
       "       1, 1, 1, 1, 1, 1, 1, 1, 1, 1, 0, 1, 1, 1, 1, 1, 1, 1, 0, 1, 1, 1,\n",
       "       1, 1, 1, 0, 1, 0, 0, 1])"
      ]
     },
     "execution_count": 7,
     "metadata": {},
     "output_type": "execute_result"
    }
   ],
   "source": [
    "pred2 = clf2.predict(X_test)\n",
    "pred2"
   ]
  },
  {
   "cell_type": "markdown",
   "metadata": {},
   "source": [
    "https://scikit-learn.org/stable/modules/model_evaluation.html#classification-metrics"
   ]
  },
  {
   "cell_type": "code",
   "execution_count": 8,
   "metadata": {},
   "outputs": [
    {
     "name": "stdout",
     "output_type": "stream",
     "text": [
      "SVC Accuracy: 0.7027027027027027; KNN Accuracy: 0.6756756756756757\n",
      "\n",
      "Confusion Matrix format:\n",
      "[[True positive False positive]\n",
      "[False negative True negative]]\n",
      "\n",
      "SVC Matrix: \n",
      "[[ 5  1]\n",
      " [21 47]]\n",
      "\n",
      "KNN Matrix: \n",
      "[[ 6  4]\n",
      " [20 44]]\n",
      "\n"
     ]
    }
   ],
   "source": [
    "from sklearn.metrics import accuracy_score, classification_report, confusion_matrix\n",
    "acc1 = accuracy_score(pred1, y_test)\n",
    "acc2 = accuracy_score(pred2, y_test)\n",
    "print(\"SVC Accuracy: {}; KNN Accuracy: {}\\n\".format(acc1, acc2))\n",
    "\n",
    "# clr1 = classification_report(pred1, y_test)\n",
    "# clr2 = classification_report(pred2, y_test)\n",
    "# print(\"SVC Report: {}\".format(clr1))\n",
    "# print(\"KNN Report: {}\".format(clr2))\n",
    "\n",
    "cmat1 = confusion_matrix(pred1, y_test)\n",
    "cmat2 = confusion_matrix(pred2, y_test)\n",
    "print(\"Confusion Matrix format:\\n[[True positive False positive]\\n[False negative True negative]]\\n\")\n",
    "print(\"SVC Matrix: \\n{}\\n\".format(cmat1))\n",
    "print(\"KNN Matrix: \\n{}\\n\".format(cmat2))"
   ]
  },
  {
   "cell_type": "markdown",
   "metadata": {},
   "source": [
    "### For regression"
   ]
  },
  {
   "cell_type": "markdown",
   "metadata": {},
   "source": [
    "#### Regression metrics\n",
    "##### Mean Absolute Error (MAE)\n",
    "\n",
    "$MAE=\\frac{1}{n}\\sum\\limits^{n}_{i=1}|y_i - \\hat{y}_i|$\n",
    "\n",
    "##### Mean Square Error (MSE)\n",
    "\n",
    "$MSE=\\frac{1}{n}\\sum\\limits^{n}_{i=1}(y_i - \\hat{y}_i)^2$\n",
    "\n",
    "##### Root Mean Square Error (RMSE)\n",
    "\n",
    "$RMSE=\\sqrt{\\frac{1}{n}\\sum\\limits^{n}_{i=1}(y_i - \\hat{y}_i)^2}$\n",
    "\n",
    "##### R^2 Score (Coefficient of determination)\n",
    "\n",
    "From scikit: \"Best possible score is 1.0 and it can be negative (because the model can be arbitrarily worse). A constant model that always predicts the expected value of y, disregarding the input features, would get a R^2 score of 0.0.\"\n",
    "\n",
    "https://scikit-learn.org/stable/modules/model_evaluation.html#regression-metrics"
   ]
  },
  {
   "cell_type": "code",
   "execution_count": 9,
   "metadata": {},
   "outputs": [],
   "source": [
    "X = tips.drop('tip', axis = 1)\n",
    "y = tips['tip']\n",
    "\n",
    "from sklearn.preprocessing import LabelEncoder\n",
    "lb = LabelEncoder()\n",
    "X['sex'] = lb.fit_transform(X['sex'])\n",
    "X['smoker'] = lb.fit_transform(X['smoker'])\n",
    "X['day'] = lb.fit_transform(X['day'])\n",
    "X['time'] = lb.fit_transform(X['time'])\n",
    "\n",
    "from sklearn.model_selection import train_test_split\n",
    "X_train, X_test, y_train, y_test = train_test_split(X, y, test_size = 0.3, random_state = 100)"
   ]
  },
  {
   "cell_type": "code",
   "execution_count": 10,
   "metadata": {},
   "outputs": [],
   "source": [
    "from sklearn.ensemble import RandomForestRegressor\n",
    "reg_cso = RandomForestRegressor(n_estimators = 1000, random_state = 42)\n",
    "reg_cso.fit(X_train, y_train)\n",
    "\n",
    "y_pred_cso = reg_cso.predict(X_test)"
   ]
  },
  {
   "cell_type": "code",
   "execution_count": 11,
   "metadata": {
    "scrolled": true
   },
   "outputs": [],
   "source": [
    "from sklearn.neighbors import KNeighborsRegressor\n",
    "reg_eca2 = KNeighborsRegressor(n_neighbors = 2)\n",
    "reg_eca2.fit(X_train, y_train)\n",
    "\n",
    "y_pred_eca2 = reg_eca2.predict(X_test)"
   ]
  },
  {
   "cell_type": "code",
   "execution_count": 12,
   "metadata": {},
   "outputs": [],
   "source": [
    "from sklearn.ensemble import GradientBoostingRegressor\n",
    "reg_jchs = GradientBoostingRegressor(n_estimators=100, learning_rate=0.1, max_depth=20, random_state=0, loss='ls')\n",
    "reg_jchs.fit(X_train, y_train)\n",
    "\n",
    "y_pred_jchs = reg_jchs.predict(X_test)"
   ]
  },
  {
   "cell_type": "code",
   "execution_count": 13,
   "metadata": {},
   "outputs": [],
   "source": [
    "from sklearn.neural_network import MLPRegressor\n",
    "reg_jppgm = MLPRegressor()\n",
    "reg_jppgm.fit(X_train, y_train)\n",
    "\n",
    "y_pred_jppgm = reg_jppgm.predict(X_test)"
   ]
  },
  {
   "cell_type": "code",
   "execution_count": 14,
   "metadata": {},
   "outputs": [],
   "source": [
    "from sklearn.linear_model import Ridge\n",
    "reg_jrds = Ridge(alpha = .5)\n",
    "reg_jrds.fit(X_train, y_train)\n",
    "\n",
    "y_pred_jrds = reg_jrds.predict(X_test)"
   ]
  },
  {
   "cell_type": "code",
   "execution_count": 15,
   "metadata": {},
   "outputs": [],
   "source": [
    "from sklearn.tree import DecisionTreeRegressor\n",
    "reg_jvsg = DecisionTreeRegressor()\n",
    "reg_jvsg.fit(X_train, y_train)\n",
    "\n",
    "y_pred_jvsg = reg_jvsg.predict(X_test)"
   ]
  },
  {
   "cell_type": "code",
   "execution_count": 16,
   "metadata": {},
   "outputs": [],
   "source": [
    "from sklearn.ensemble import GradientBoostingRegressor\n",
    "reg_lar_vrvs = GradientBoostingRegressor(learning_rate = 0.05, n_estimators = 300)\n",
    "reg_lar_vrvs.fit(X_train, y_train)\n",
    "\n",
    "y_pred_lar_vrvs = reg_lar_vrvs.predict(X_test)"
   ]
  },
  {
   "cell_type": "code",
   "execution_count": 17,
   "metadata": {},
   "outputs": [],
   "source": [
    "from sklearn.linear_model import BayesianRidge\n",
    "reg_lcc4 = BayesianRidge()\n",
    "reg_lcc4.fit(X_train, y_train)\n",
    "\n",
    "y_pred_lcc4 = reg_lcc4.predict(X_test)"
   ]
  },
  {
   "cell_type": "code",
   "execution_count": 18,
   "metadata": {},
   "outputs": [
    {
     "name": "stderr",
     "output_type": "stream",
     "text": [
      "//anaconda3/lib/python3.7/site-packages/sklearn/svm/base.py:193: FutureWarning: The default value of gamma will change from 'auto' to 'scale' in version 0.22 to account better for unscaled features. Set gamma explicitly to 'auto' or 'scale' to avoid this warning.\n",
      "  \"avoid this warning.\", FutureWarning)\n"
     ]
    }
   ],
   "source": [
    "from sklearn.svm import SVR\n",
    "reg_vbas = SVR(C = 100)\n",
    "reg_vbas.fit(X_train, y_train)\n",
    "\n",
    "y_pred_vbas = reg_vbas.predict(X_test)"
   ]
  },
  {
   "cell_type": "code",
   "execution_count": 19,
   "metadata": {},
   "outputs": [
    {
     "name": "stderr",
     "output_type": "stream",
     "text": [
      "//anaconda3/lib/python3.7/site-packages/sklearn/svm/base.py:929: ConvergenceWarning: Liblinear failed to converge, increase the number of iterations.\n",
      "  \"the number of iterations.\", ConvergenceWarning)\n"
     ]
    }
   ],
   "source": [
    "from sklearn.svm import LinearSVR \n",
    "reg_vtls = LinearSVR(random_state=0, tol=1e-5)\n",
    "reg_vtls.fit(X_train, y_train)\n",
    "\n",
    "y_pred_vtls = reg_vtls.predict(X_test)"
   ]
  },
  {
   "cell_type": "code",
   "execution_count": 20,
   "metadata": {
    "scrolled": true
   },
   "outputs": [],
   "source": [
    "from sklearn.metrics import mean_absolute_error, mean_squared_error, r2_score\n",
    "results = [\n",
    "    [mean_absolute_error(y_test, y_pred_cso), mean_squared_error(y_test, y_pred_cso), np.sqrt(mean_squared_error(y_test, y_pred_cso)), r2_score(y_test, y_pred_cso)],\n",
    "    [mean_absolute_error(y_test, y_pred_eca2), mean_squared_error(y_test, y_pred_eca2), np.sqrt(mean_squared_error(y_test, y_pred_eca2)), r2_score(y_test, y_pred_eca2)],\n",
    "    [mean_absolute_error(y_test, y_pred_jchs), mean_squared_error(y_test, y_pred_jchs), np.sqrt(mean_squared_error(y_test, y_pred_jchs)), r2_score(y_test, y_pred_jchs)],\n",
    "    [mean_absolute_error(y_test, y_pred_jppgm), mean_squared_error(y_test, y_pred_jppgm), np.sqrt(mean_squared_error(y_test, y_pred_jppgm)), r2_score(y_test, y_pred_jppgm)],\n",
    "    [mean_absolute_error(y_test, y_pred_jrds), mean_squared_error(y_test, y_pred_jrds), np.sqrt(mean_squared_error(y_test, y_pred_jrds)), r2_score(y_test, y_pred_jrds)],\n",
    "    [mean_absolute_error(y_test, y_pred_jvsg), mean_squared_error(y_test, y_pred_jvsg), np.sqrt(mean_squared_error(y_test, y_pred_jvsg)), r2_score(y_test, y_pred_jvsg)],\n",
    "    [mean_absolute_error(y_test, y_pred_lar_vrvs), mean_squared_error(y_test, y_pred_lar_vrvs), np.sqrt(mean_squared_error(y_test, y_pred_lar_vrvs)), r2_score(y_test, y_pred_lar_vrvs)],\n",
    "    [mean_absolute_error(y_test, y_pred_lcc4), mean_squared_error(y_test, y_pred_lcc4), np.sqrt(mean_squared_error(y_test, y_pred_lcc4)), r2_score(y_test, y_pred_lcc4)],\n",
    "    [mean_absolute_error(y_test, y_pred_vbas), mean_squared_error(y_test, y_pred_vbas), np.sqrt(mean_squared_error(y_test, y_pred_vbas)), r2_score(y_test, y_pred_vbas)],\n",
    "    [mean_absolute_error(y_test, y_pred_vtls), mean_squared_error(y_test, y_pred_vtls), np.sqrt(mean_squared_error(y_test, y_pred_vtls)), r2_score(y_test, y_pred_vtls)]\n",
    "]"
   ]
  },
  {
   "cell_type": "code",
   "execution_count": 21,
   "metadata": {},
   "outputs": [
    {
     "data": {
      "text/plain": [
       "Text(0, 0.5, 'R2')"
      ]
     },
     "execution_count": 21,
     "metadata": {},
     "output_type": "execute_result"
    },
    {
     "data": {
      "image/png": "[encoded data removed]",
      "text/plain": [
       "<Figure size 1080x720 with 4 Axes>"
      ]
     },
     "metadata": {
      "needs_background": "light"
     },
     "output_type": "display_data"
    }
   ],
   "source": [
    "f, (ax1, ax2, ax3, ax4) = plt.subplots(4, 1, figsize=(15, 10), sharex=True)\n",
    "\n",
    "x = np.array(['cso', 'eca2', 'jchs', 'jppgm', 'jrds', 'jvsg', 'lar_vrvs', 'lcc4', 'vbas', 'vtls'])\n",
    "sns.barplot(x = x, y = list(map(lambda r: r[0], results)), palette=\"rocket\", ax = ax1)\n",
    "sns.barplot(x = x, y = list(map(lambda r: r[1], results)), palette=\"rocket\", ax = ax2)\n",
    "sns.barplot(x = x, y = list(map(lambda r: r[2], results)), palette=\"rocket\", ax = ax3)\n",
    "sns.barplot(x = x, y = list(map(lambda r: r[3], results)), palette=\"rocket\", ax = ax4)\n",
    "ax1.axhline(0, color=\"k\")\n",
    "ax1.set_ylabel(\"MAE\")\n",
    "ax2.axhline(0, color=\"k\")\n",
    "ax2.set_ylabel(\"MSE\")\n",
    "ax3.axhline(0, color=\"k\")\n",
    "ax3.set_ylabel(\"RMSE\")\n",
    "ax4.axhline(0, color=\"k\")\n",
    "ax4.set_ylabel(\"R2\")"
   ]
  },
  {
   "cell_type": "markdown",
   "metadata": {},
   "source": [
    "## Finding optimal parameters"
   ]
  },
  {
   "cell_type": "code",
   "execution_count": 22,
   "metadata": {},
   "outputs": [
    {
     "name": "stdout",
     "output_type": "stream",
     "text": [
      "Best number of neighbors is 21 with RMSE equals to 1.149155019699308\n"
     ]
    }
   ],
   "source": [
    "from sklearn.neighbors import KNeighborsRegressor\n",
    "ks = np.arange(1,31)\n",
    "results = np.zeros(30)\n",
    "for k in ks:\n",
    "    knn = KNeighborsRegressor(n_neighbors = k)\n",
    "    knn.fit(X_train, y_train)\n",
    "    y_pred = knn.predict(X_test)\n",
    "    results[k-1] = np.sqrt(mean_squared_error(y_test, y_pred))\n",
    "best_k = results.argmin() + 1\n",
    "low_rmse = results.min()\n",
    "print (\"Best number of neighbors is {} with RMSE equals to {}\".format(best_k, low_rmse))    "
   ]
  },
  {
   "cell_type": "code",
   "execution_count": 23,
   "metadata": {},
   "outputs": [
    {
     "data": {
      "text/plain": [
       "Text(0.5, 1.0, 'RMSE vs Number of neighbors')"
      ]
     },
     "execution_count": 23,
     "metadata": {},
     "output_type": "execute_result"
    },
    {
     "data": {
      "image/png": "[encoded data removed]",
      "text/plain": [
       "<Figure size 864x432 with 1 Axes>"
      ]
     },
     "metadata": {
      "needs_background": "light"
     },
     "output_type": "display_data"
    }
   ],
   "source": [
    "plt.figure(figsize=(12, 6))\n",
    "plt.plot(ks, results, marker='o', linestyle='--', color='blue')\n",
    "plt.title(\"RMSE vs Number of neighbors\")"
   ]
  },
  {
   "cell_type": "markdown",
   "metadata": {
    "collapsed": true
   },
   "source": [
    "### Cross-validation - http://scikit-learn.org/stable/modules/model_evaluation.html"
   ]
  },
  {
   "cell_type": "code",
   "execution_count": 31,
   "metadata": {},
   "outputs": [
    {
     "data": {
      "text/plain": [
       "{'n_neighbors': 27}"
      ]
     },
     "execution_count": 31,
     "metadata": {},
     "output_type": "execute_result"
    }
   ],
   "source": [
    "from sklearn.model_selection import GridSearchCV\n",
    "parameters = {'n_neighbors': list(range(1, 41))}\n",
    "knn = KNeighborsRegressor()\n",
    "grid = GridSearchCV(\n",
    "    knn,\n",
    "    parameters,\n",
    "    cv = 10,\n",
    "    scoring = 'neg_mean_squared_error',\n",
    "    return_train_score = True,\n",
    "    refit = True\n",
    ")\n",
    "grid.fit(X_train, y_train)\n",
    "grid.best_params_\n",
    "# grid.cv_results_"
   ]
  },
  {
   "cell_type": "code",
   "execution_count": 26,
   "metadata": {
    "scrolled": true
   },
   "outputs": [
    {
     "data": {
      "text/plain": [
       "Text(0, 0.5, 'RMSE 10-CV')"
      ]
     },
     "execution_count": 26,
     "metadata": {},
     "output_type": "execute_result"
    },
    {
     "data": {
      "image/png": "[encoded data removed]",
      "text/plain": [
       "<Figure size 864x432 with 1 Axes>"
      ]
     },
     "metadata": {
      "needs_background": "light"
     },
     "output_type": "display_data"
    }
   ],
   "source": [
    "# Training errors\n",
    "mean_cv_train = grid.cv_results_['mean_train_score']\n",
    "rmse_cv_train = np.sqrt(np.abs(mean_cv_train))\n",
    "\n",
    "# Test errors\n",
    "mean_cv_test = grid.cv_results_['mean_test_score']\n",
    "rmse_cv_test = np.sqrt(np.abs(mean_cv_test))\n",
    "\n",
    "# Plotting\n",
    "plt.figure(figsize=(12,6))\n",
    "plt.plot(rmse_cv_train, marker = 'o', linestyle = '--', color = 'red')\n",
    "plt.plot(rmse_cv_test, marker = 'o', linestyle = '--', color = 'green')\n",
    "plt.legend(['Train', 'Test'], loc = (0.8, 0.2))\n",
    "plt.title(\"Cross validation RMSE vs Number of neighbors\")\n",
    "plt.xlabel('Number of neighbors')\n",
    "plt.ylabel('RMSE 10-CV')"
   ]
  },
  {
   "cell_type": "code",
   "execution_count": 29,
   "metadata": {},
   "outputs": [
    {
     "data": {
      "text/plain": [
       "1.1821574750336887"
      ]
     },
     "execution_count": 29,
     "metadata": {},
     "output_type": "execute_result"
    }
   ],
   "source": [
    "best_knn = grid.best_estimator_\n",
    "best_pred = best_knn.predict(X_test)\n",
    "np.sqrt(mean_squared_error(y_test, best_pred))"
   ]
  },
  {
   "cell_type": "code",
   "execution_count": 32,
   "metadata": {},
   "outputs": [
    {
     "data": {
      "text/plain": [
       "{'n_neighbors': 39}"
      ]
     },
     "execution_count": 32,
     "metadata": {},
     "output_type": "execute_result"
    }
   ],
   "source": [
    "from sklearn.model_selection import RepeatedKFold\n",
    "\n",
    "parameters = {'n_neighbors': list(range(1, 41))}\n",
    "knn = KNeighborsRegressor()\n",
    "grid = GridSearchCV(\n",
    "    knn,\n",
    "    parameters,\n",
    "    cv = RepeatedKFold(n_splits = 10, n_repeats = 30),\n",
    "    scoring = 'neg_mean_squared_error',\n",
    "    return_train_score = True,\n",
    "    refit = True\n",
    ")\n",
    "grid.fit(X_train, y_train)\n",
    "grid.best_params_\n",
    "# grid.cv_results_"
   ]
  },
  {
   "cell_type": "code",
   "execution_count": null,
   "metadata": {},
   "outputs": [],
   "source": []
  }
 ],
 "metadata": {
  "kernelspec": {
   "display_name": "Python 3",
   "language": "python",
   "name": "python3"
  },
  "language_info": {
   "codemirror_mode": {
    "name": "ipython",
    "version": 3
   },
   "file_extension": ".py",
   "mimetype": "text/x-python",
   "name": "python",
   "nbconvert_exporter": "python",
   "pygments_lexer": "ipython3",
   "version": "3.7.3"
  }
 },
 "nbformat": 4,
 "nbformat_minor": 2
}
