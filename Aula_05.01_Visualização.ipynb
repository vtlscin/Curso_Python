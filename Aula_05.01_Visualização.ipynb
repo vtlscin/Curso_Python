{
 "cells": [
  {
   "cell_type": "markdown",
   "metadata": {},
   "source": [
    "### https://github.com/lucasharada/Curso_Python"
   ]
  },
  {
   "cell_type": "markdown",
   "metadata": {},
   "source": [
    "### Matplotlib: Python plotting"
   ]
  },
  {
   "cell_type": "markdown",
   "metadata": {},
   "source": [
    "A GOOD TUTORIAL - https://www.labri.fr/perso/nrougier/teaching/matplotlib/"
   ]
  },
  {
   "cell_type": "markdown",
   "metadata": {},
   "source": [
    "## Installing"
   ]
  },
  {
   "cell_type": "markdown",
   "metadata": {},
   "source": [
    "Choose one of the following commands:\n",
    "\n",
    "`conda install matplotlib`\n",
    "\n",
    "`pip install matplotlib`"
   ]
  },
  {
   "cell_type": "code",
   "execution_count": 2,
   "metadata": {},
   "outputs": [],
   "source": [
    "import matplotlib.pyplot as plt"
   ]
  },
  {
   "cell_type": "code",
   "execution_count": 3,
   "metadata": {},
   "outputs": [],
   "source": [
    "# To allow visualizing plots on Jupyter Notebook\n",
    "%matplotlib inline"
   ]
  },
  {
   "cell_type": "markdown",
   "metadata": {},
   "source": [
    "### Example 01 - Plotting"
   ]
  },
  {
   "cell_type": "code",
   "execution_count": 5,
   "metadata": {},
   "outputs": [],
   "source": [
    "import numpy as np\n",
    "\n",
    "x1 = np.linspace(-10,10,100)\n",
    "y1 = x1 ** 3"
   ]
  },
  {
   "cell_type": "code",
   "execution_count": null,
   "metadata": {},
   "outputs": [],
   "source": [
    "plt.plot(x1, y1)\n",
    "plt.show()"
   ]
  },
  {
   "cell_type": "code",
   "execution_count": null,
   "metadata": {},
   "outputs": [],
   "source": [
    "plt.plot(x1, y1, 'g--')\n",
    "plt.xlabel('X Axis')\n",
    "plt.ylabel('Y Axis')\n",
    "plt.title(\"Example 01\")\n",
    "plt.show()"
   ]
  },
  {
   "cell_type": "markdown",
   "metadata": {},
   "source": [
    "#### Assignment 01\n",
    "\n",
    "Implement the plotter of $sen(x)$ for $[0, 2\\pi]$"
   ]
  },
  {
   "cell_type": "code",
   "execution_count": null,
   "metadata": {},
   "outputs": [],
   "source": []
  },
  {
   "cell_type": "markdown",
   "metadata": {},
   "source": [
    "### Example 02 - Subplots"
   ]
  },
  {
   "cell_type": "code",
   "execution_count": 8,
   "metadata": {},
   "outputs": [
    {
     "data": {
      "image/png": "[encoded data removed]",
      "text/plain": [
       "<Figure size 432x288 with 3 Axes>"
      ]
     },
     "metadata": {
      "needs_background": "light"
     },
     "output_type": "display_data"
    }
   ],
   "source": [
    "x2 = np.linspace(0, 2 * np.pi, 100)\n",
    "y21 = np.sin(x2)\n",
    "y22 = np.cos(x2)\n",
    "plt.subplot(1, 3, 1) # Row 1 Column 2 Plot 1\n",
    "plt.plot(x2, y21, 'go')\n",
    "plt.subplot(1, 3, 2) # Row 1 Column 2 Plot 2\n",
    "plt.plot(x2, y22, 'b*')\n",
    "plt.subplot(1, 3, 3) # Row 1 Column 2 Plot 1\n",
    "plt.plot(x2, y21)\n",
    "plt.show()"
   ]
  },
  {
   "cell_type": "markdown",
   "metadata": {},
   "source": [
    "### Example 3 - Object Oriented Programming"
   ]
  },
  {
   "cell_type": "code",
   "execution_count": null,
   "metadata": {
    "scrolled": true
   },
   "outputs": [],
   "source": [
    "x3 = np.linspace(-2, 2, 100)\n",
    "y3 = x3 ** 4\n",
    "figure3 = plt.figure()\n",
    "axes = figure3.add_axes([0.1, 0.1, 0.8, 0.8])\n",
    "axes.plot(x3, y3)\n",
    "axes.set_xlabel('X3')\n",
    "axes.set_ylabel('Y3')\n",
    "axes.set_title(\"Example 03\")\n",
    "plt.show()"
   ]
  },
  {
   "cell_type": "markdown",
   "metadata": {},
   "source": [
    "#### Assignment 02\n",
    "\n",
    "Implement the plotter of $cos(x)$ for $[0, 2\\pi]$ using OOP"
   ]
  },
  {
   "cell_type": "code",
   "execution_count": null,
   "metadata": {},
   "outputs": [],
   "source": []
  },
  {
   "cell_type": "markdown",
   "metadata": {},
   "source": [
    "### Example 04 - Subplots using OOP"
   ]
  },
  {
   "cell_type": "code",
   "execution_count": null,
   "metadata": {
    "scrolled": true
   },
   "outputs": [],
   "source": [
    "figure4 = plt.figure()\n",
    "# add_axes([left, bottom, width, height])\n",
    "axes41 = figure4.add_axes([0.1, 0.1, 0.8, 0.8])\n",
    "axes42 = figure4.add_axes([0.2, 0.4, 0.4, 0.4])\n",
    "x4 = np.linspace(0, 2 * np.pi, 100)\n",
    "y4 = np.sin(x4)\n",
    "axes41.plot(x4, y4)\n",
    "axes42.plot(y4, x4)\n",
    "plt.show()"
   ]
  },
  {
   "cell_type": "markdown",
   "metadata": {},
   "source": [
    "### Example 05 - Adjusting subplots\n",
    "\n",
    "Trying to create multiple subplots and draw into plots."
   ]
  },
  {
   "cell_type": "code",
   "execution_count": null,
   "metadata": {
    "scrolled": true
   },
   "outputs": [],
   "source": [
    "figure5, axes5 = plt.subplots(2, 2)\n",
    "plt.tight_layout()\n",
    "plt.show()"
   ]
  },
  {
   "cell_type": "code",
   "execution_count": null,
   "metadata": {
    "scrolled": true
   },
   "outputs": [],
   "source": [
    "x5 = np.linspace(0, 5, 10)\n",
    "y5 = x5 ** 2\n",
    "for ax in axes5:\n",
    "    ax.plot(x5, y5)"
   ]
  },
  {
   "cell_type": "code",
   "execution_count": null,
   "metadata": {
    "scrolled": false
   },
   "outputs": [],
   "source": [
    "axes5"
   ]
  },
  {
   "cell_type": "code",
   "execution_count": null,
   "metadata": {},
   "outputs": [],
   "source": [
    "axes5[0,1].plot(x5, 2 * y5)\n",
    "figure5"
   ]
  },
  {
   "cell_type": "markdown",
   "metadata": {},
   "source": [
    "#### Assignment 03\n",
    "\n",
    "Example: Implement a subplot 1x2 containing $sin(x)$ and $cos(x)$ for $[0, 2\\pi]$\n",
    "\n",
    "(a) Implement a subplot 2x2 containing $1/x^2$, $1/x$, $x$ and $x^2$ for $[-3, 3]$"
   ]
  },
  {
   "cell_type": "code",
   "execution_count": 7,
   "metadata": {},
   "outputs": [
    {
     "data": {
      "image/png": "[encoded data removed]",
      "text/plain": [
       "<Figure size 432x288 with 2 Axes>"
      ]
     },
     "metadata": {
      "needs_background": "light"
     },
     "output_type": "display_data"
    }
   ],
   "source": [
    "#Ex = np.linspace(0, 2 * np.pi, 360)\n",
    "y1 = np.sin(x)\n",
    "y2 = np.cos(x)\n",
    "figure, axes = plt.subplots(1, 2)\n",
    "axes[0].plot(x, y1)\n",
    "axes[1].plot(x, y2)\n",
    "plt.tight_layout()\n",
    "plt.show()"
   ]
  },
  {
   "cell_type": "code",
   "execution_count": null,
   "metadata": {},
   "outputs": [],
   "source": [
    "x = np.linspace(-3, 3, 100)\n",
    "y1 = 1 / (x ** 2)\n",
    "y2 = 1 / x\n",
    "y3 = x\n",
    "y4 = x ** 2\n",
    "figure, axes = plt.subplots(2, 2)\n",
    "axes[0, 0].plot(x, y1)\n",
    "axes[0, 1].plot(x, y2)\n",
    "axes[1, 0].plot(x, y3)\n",
    "axes[1, 1].plot(x, y4)\n",
    "plt.tight_layout()\n",
    "plt.show()"
   ]
  },
  {
   "cell_type": "markdown",
   "metadata": {},
   "source": [
    "### Example 06 - Size, DPI and export"
   ]
  },
  {
   "cell_type": "code",
   "execution_count": null,
   "metadata": {},
   "outputs": [],
   "source": [
    "figure61 = plt.figure(figsize = (2, 2))\n",
    "axes61 = figure61.add_axes([0.1, 0.1, 1, 1])\n",
    "x61 = np.linspace(0, 1, 10)\n",
    "y61 = x61 ** 2\n",
    "axes61.plot(x61, y61)"
   ]
  },
  {
   "cell_type": "code",
   "execution_count": null,
   "metadata": {},
   "outputs": [],
   "source": [
    "figure62, axes62 = plt.subplots(1, 2, figsize = (8, 2))\n",
    "x62 = np.linspace(0, 2 * np.pi, 100)\n",
    "y62 = np.sin(x62)\n",
    "y63 = np.cos(x62)\n",
    "axes62[0].plot(x62, y62)\n",
    "axes62[1].plot(x62, y63)\n",
    "plt.tight_layout()"
   ]
  },
  {
   "cell_type": "code",
   "execution_count": null,
   "metadata": {},
   "outputs": [],
   "source": [
    "figure62.savefig(\"figure62.jpg\", dpi=100)"
   ]
  },
  {
   "cell_type": "markdown",
   "metadata": {
    "collapsed": true
   },
   "source": [
    "### Example 07 - Legends"
   ]
  },
  {
   "cell_type": "code",
   "execution_count": null,
   "metadata": {},
   "outputs": [],
   "source": [
    "figure7 = plt.figure()\n",
    "axes7 = figure7.add_axes([0.1, 0.1, 0.8, 0.8])\n",
    "x7 = np.linspace(-5, 5, 100)\n",
    "y71 = x7 ** 2\n",
    "y72 = 2 * x7\n",
    "axes7.plot(x7, y71, 'y', label='Yellow line')\n",
    "axes7.plot(x7, y72, 'r', label='Red line')\n",
    "# axes7.legend(loc = 5)\n",
    "# Possible loc values\n",
    "# 0 => 'best' (only implemented for axes legends);\n",
    "# 1 => 'upper right';\n",
    "# 2 => 'upper left';\n",
    "# 3 => 'lower left';\n",
    "# 4 => 'lower right';\n",
    "# 5 => 'center right';\n",
    "# 6 => 'center left';\n",
    "# 7 => 'center right';\n",
    "# 8 => 'lower center';\n",
    "# 9 => 'upper center';\n",
    "# 10 => 'center';\n",
    "# tuple => (left, bottom)\n",
    "\n",
    "axes7.legend(loc = (0.05, 0.05))"
   ]
  },
  {
   "cell_type": "markdown",
   "metadata": {},
   "source": [
    "#### Assignment 04\n",
    "\n",
    "Consider $PL=20\\times log_{10}{(d)}+20\\times log_{10}{(f)} +32.45 dB$, where $d$ is the distance in $km$ and $f$ is the frequency in $MHz$.\n",
    "\n",
    "Implement plotters with legends for frequencies equal to 1.1 $MHz$ and 100 $MHz$ and distance between 0 and 5 $km$."
   ]
  },
  {
   "cell_type": "code",
   "execution_count": 6,
   "metadata": {},
   "outputs": [
    {
     "data": {
      "image/png": "[encoded data removed]",
      "text/plain": [
       "<Figure size 432x288 with 1 Axes>"
      ]
     },
     "metadata": {
      "needs_background": "light"
     },
     "output_type": "display_data"
    }
   ],
   "source": [
    "x = np.linspace(0.1, 5, 100)\n",
    "y1 = 20 * np.log10(x) + 20 * np.log10(1.1) + 32.45\n",
    "y2 = 20 * np.log10(x) + 20 * np.log10(100) + 32.45\n",
    "figure = plt.figure()\n",
    "axes = figure.add_axes([0.1, 0.1, 1, 1])\n",
    "axes.plot(x, y1, label = '1.1 MHz')\n",
    "axes.plot(x, y2, label = '100 MHz')\n",
    "plt.legend(loc = 0)\n",
    "plt.show()"
   ]
  },
  {
   "cell_type": "code",
   "execution_count": null,
   "metadata": {},
   "outputs": [],
   "source": []
  },
  {
   "cell_type": "markdown",
   "metadata": {},
   "source": [
    "### Example 08 - Customization "
   ]
  },
  {
   "cell_type": "code",
   "execution_count": null,
   "metadata": {},
   "outputs": [],
   "source": [
    "x8 = np.linspace(0, 10, 20)\n",
    "y81 = x8 * 5\n",
    "y82 = x8 ** 10\n",
    "\n",
    "figure8 = plt.figure()\n",
    "axes8 = figure8.add_axes([0.1, 0.1, 0.8, 0.8])\n",
    "axes8.plot(x8, y81, color='red', linewidth=3, alpha=1, linestyle='-')\n",
    "axes8.plot(x8, y82, color='#000000', lw=3, alpha=0.7, ls='-.', marker='*', markersize=10)\n",
    "axes8.set_xlim([2, 14])\n",
    "axes8.set_ylim([20, 80])\n",
    "# linestyle options => [\"-\", \"--\",\"-.\", \":\"]"
   ]
  }
 ],
 "metadata": {
  "kernelspec": {
   "display_name": "Python 3",
   "language": "python",
   "name": "python3"
  },
  "language_info": {
   "codemirror_mode": {
    "name": "ipython",
    "version": 3
   },
   "file_extension": ".py",
   "mimetype": "text/x-python",
   "name": "python",
   "nbconvert_exporter": "python",
   "pygments_lexer": "ipython3",
   "version": "3.7.1"
  }
 },
 "nbformat": 4,
 "nbformat_minor": 2
}
