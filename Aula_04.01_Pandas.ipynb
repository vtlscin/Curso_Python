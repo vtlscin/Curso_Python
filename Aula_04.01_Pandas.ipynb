{
 "cells": [
  {
   "cell_type": "markdown",
   "metadata": {},
   "source": [
    "### Pandas: Python Data Analysis Library"
   ]
  },
  {
   "cell_type": "markdown",
   "metadata": {},
   "source": [
    "## Installing"
   ]
  },
  {
   "cell_type": "markdown",
   "metadata": {},
   "source": [
    "Choose one of the following commands:\n",
    "\n",
    "`conda install pandas`\n",
    "\n",
    "`pip install pandas`"
   ]
  },
  {
   "cell_type": "code",
   "execution_count": 2,
   "metadata": {},
   "outputs": [],
   "source": [
    "import numpy as np\n",
    "import pandas as pd"
   ]
  },
  {
   "cell_type": "markdown",
   "metadata": {},
   "source": [
    "## Series"
   ]
  },
  {
   "cell_type": "code",
   "execution_count": null,
   "metadata": {},
   "outputs": [],
   "source": [
    "grades = [8.5, 7, 9]\n",
    "pd.Series(grades)"
   ]
  },
  {
   "cell_type": "code",
   "execution_count": null,
   "metadata": {},
   "outputs": [],
   "source": [
    "grades = [8.5, 7, 9]\n",
    "students = ['Student A','Student B','Student C']\n",
    "pd.Series(grades, students)"
   ]
  },
  {
   "cell_type": "code",
   "execution_count": null,
   "metadata": {},
   "outputs": [],
   "source": [
    "np_grades = np.array([6, 7, 8])\n",
    "pd.Series(np_grades)"
   ]
  },
  {
   "cell_type": "markdown",
   "metadata": {},
   "source": [
    "#### Exercise\n",
    "\n",
    "(a) Create a series from a Python dictionary;"
   ]
  },
  {
   "cell_type": "code",
   "execution_count": null,
   "metadata": {},
   "outputs": [],
   "source": [
    "series_a = pd.Series([5 ,2, 2], ['Brazil','Argentina','France'])\n",
    "# series_a = pd.Series(?)\n",
    "print(\"Brazil has {} World Cups.\".format(series_a['Brazil']))"
   ]
  },
  {
   "cell_type": "code",
   "execution_count": null,
   "metadata": {},
   "outputs": [],
   "source": [
    "series_a['Brazil', 'Argentina'] # Error"
   ]
  },
  {
   "cell_type": "code",
   "execution_count": null,
   "metadata": {},
   "outputs": [],
   "source": [
    "print(series_a[['Brazil', 'Argentina']])\n",
    "print()\n",
    "print(type(series_a[['Brazil', 'Argentina']]))\n",
    "print()\n",
    "print(type(series_a['Brazil']))\n",
    "print()\n",
    "print(type(series_a[['Brazil']]))\n",
    "print()\n",
    "print(series_a[['Brazil']])"
   ]
  },
  {
   "cell_type": "code",
   "execution_count": null,
   "metadata": {},
   "outputs": [],
   "source": [
    "series_b = pd.Series([2018, 2002, 1986], index=['France','Brazil','Argentina'])\n",
    "print(\"Last time France won World Cup was in {}, while Brazil won in {} and Argentina in {}\".format(series_b['France'],series_b['Brazil'],series_b['Argentina']))"
   ]
  },
  {
   "cell_type": "markdown",
   "metadata": {
    "collapsed": true
   },
   "source": [
    "### Operations"
   ]
  },
  {
   "cell_type": "code",
   "execution_count": null,
   "metadata": {
    "scrolled": true
   },
   "outputs": [],
   "source": [
    "series_c = pd.Series(data=[5, 10, 9], index=['AL01', 'AL03', 'AL02'])\n",
    "series_d = pd.Series(data=[4, 6, 4], index=['AL01', 'AL02', 'AL03'])\n",
    "sum_c_d = series_c + series_d\n",
    "sum_c_d"
   ]
  },
  {
   "cell_type": "code",
   "execution_count": null,
   "metadata": {
    "scrolled": true
   },
   "outputs": [],
   "source": [
    "diff_c_d = series_c - series_d\n",
    "diff_c_d"
   ]
  },
  {
   "cell_type": "code",
   "execution_count": null,
   "metadata": {
    "scrolled": true
   },
   "outputs": [],
   "source": [
    "series_e = pd.Series(data=[5, 9, 10, 5], index=['AL01', 'AL02', 'AL03', 'AL04'])\n",
    "series_f = pd.Series(data=[4, 6, 4], index=['AL01', 'AL02', 'AL03'])\n",
    "sum_e_f = series_e + series_f\n",
    "sum_e_f"
   ]
  },
  {
   "cell_type": "markdown",
   "metadata": {},
   "source": [
    "### Methods - https://pandas.pydata.org/pandas-docs/stable/reference/api/pandas.Series.html"
   ]
  },
  {
   "cell_type": "code",
   "execution_count": null,
   "metadata": {},
   "outputs": [],
   "source": [
    "series_e"
   ]
  },
  {
   "cell_type": "code",
   "execution_count": null,
   "metadata": {},
   "outputs": [],
   "source": [
    "series_e.max()"
   ]
  },
  {
   "cell_type": "code",
   "execution_count": null,
   "metadata": {},
   "outputs": [],
   "source": [
    "series_e.min()"
   ]
  },
  {
   "cell_type": "code",
   "execution_count": null,
   "metadata": {
    "scrolled": false
   },
   "outputs": [],
   "source": [
    "series_e.describe()"
   ]
  },
  {
   "cell_type": "code",
   "execution_count": null,
   "metadata": {},
   "outputs": [],
   "source": [
    "series_e.cummax()"
   ]
  },
  {
   "cell_type": "code",
   "execution_count": null,
   "metadata": {
    "scrolled": false
   },
   "outputs": [],
   "source": [
    "series_e.cumprod()"
   ]
  },
  {
   "cell_type": "code",
   "execution_count": null,
   "metadata": {},
   "outputs": [],
   "source": [
    "series_e.diff()"
   ]
  },
  {
   "cell_type": "markdown",
   "metadata": {},
   "source": [
    "## DataFrames"
   ]
  },
  {
   "cell_type": "code",
   "execution_count": 3,
   "metadata": {},
   "outputs": [
    {
     "data": {
      "text/html": [
       "<div>\n",
       "<style scoped>\n",
       "    .dataframe tbody tr th:only-of-type {\n",
       "        vertical-align: middle;\n",
       "    }\n",
       "\n",
       "    .dataframe tbody tr th {\n",
       "        vertical-align: top;\n",
       "    }\n",
       "\n",
       "    .dataframe thead th {\n",
       "        text-align: right;\n",
       "    }\n",
       "</style>\n",
       "<table border=\"1\" class=\"dataframe\">\n",
       "  <thead>\n",
       "    <tr style=\"text-align: right;\">\n",
       "      <th></th>\n",
       "      <th>T1</th>\n",
       "      <th>T2</th>\n",
       "      <th>T3</th>\n",
       "      <th>4T</th>\n",
       "    </tr>\n",
       "  </thead>\n",
       "  <tbody>\n",
       "    <tr>\n",
       "      <th>ST01</th>\n",
       "      <td>8.961115</td>\n",
       "      <td>2.720399</td>\n",
       "      <td>1.513139</td>\n",
       "      <td>0.799248</td>\n",
       "    </tr>\n",
       "    <tr>\n",
       "      <th>ST02</th>\n",
       "      <td>2.377187</td>\n",
       "      <td>1.235442</td>\n",
       "      <td>9.318733</td>\n",
       "      <td>5.789321</td>\n",
       "    </tr>\n",
       "    <tr>\n",
       "      <th>ST03</th>\n",
       "      <td>6.770715</td>\n",
       "      <td>0.472047</td>\n",
       "      <td>3.934520</td>\n",
       "      <td>7.213711</td>\n",
       "    </tr>\n",
       "    <tr>\n",
       "      <th>ST04</th>\n",
       "      <td>5.913192</td>\n",
       "      <td>6.406353</td>\n",
       "      <td>4.089924</td>\n",
       "      <td>2.912775</td>\n",
       "    </tr>\n",
       "    <tr>\n",
       "      <th>ST05</th>\n",
       "      <td>8.525748</td>\n",
       "      <td>1.465387</td>\n",
       "      <td>4.434815</td>\n",
       "      <td>0.126454</td>\n",
       "    </tr>\n",
       "  </tbody>\n",
       "</table>\n",
       "</div>"
      ],
      "text/plain": [
       "            T1        T2        T3        4T\n",
       "ST01  8.961115  2.720399  1.513139  0.799248\n",
       "ST02  2.377187  1.235442  9.318733  5.789321\n",
       "ST03  6.770715  0.472047  3.934520  7.213711\n",
       "ST04  5.913192  6.406353  4.089924  2.912775\n",
       "ST05  8.525748  1.465387  4.434815  0.126454"
      ]
     },
     "execution_count": 3,
     "metadata": {},
     "output_type": "execute_result"
    }
   ],
   "source": [
    "data = np.random.rand(5, 4) * 10\n",
    "index = ['ST01','ST02','ST03','ST04','ST05']\n",
    "col = ['T1', 'T2', 'T3', '4T']\n",
    "df = pd.DataFrame(data, index, col)\n",
    "df"
   ]
  },
  {
   "cell_type": "code",
   "execution_count": null,
   "metadata": {},
   "outputs": [],
   "source": [
    "df['T1']"
   ]
  },
  {
   "cell_type": "code",
   "execution_count": null,
   "metadata": {
    "scrolled": true
   },
   "outputs": [],
   "source": [
    "df.T1 # Not recommended"
   ]
  },
  {
   "cell_type": "code",
   "execution_count": null,
   "metadata": {},
   "outputs": [],
   "source": [
    "df['4T']"
   ]
  },
  {
   "cell_type": "code",
   "execution_count": null,
   "metadata": {},
   "outputs": [],
   "source": [
    "df.4T"
   ]
  },
  {
   "cell_type": "code",
   "execution_count": null,
   "metadata": {},
   "outputs": [],
   "source": [
    "type(df['T1'])"
   ]
  },
  {
   "cell_type": "code",
   "execution_count": null,
   "metadata": {},
   "outputs": [],
   "source": [
    "df[['T1', 'T2']]"
   ]
  },
  {
   "cell_type": "code",
   "execution_count": null,
   "metadata": {
    "scrolled": true
   },
   "outputs": [],
   "source": [
    "df['T4'] = np.random.rand(5) * 10\n",
    "df"
   ]
  },
  {
   "cell_type": "code",
   "execution_count": null,
   "metadata": {},
   "outputs": [],
   "source": [
    "type(df['T4'])"
   ]
  },
  {
   "cell_type": "code",
   "execution_count": null,
   "metadata": {
    "scrolled": true
   },
   "outputs": [],
   "source": [
    "df['avg'] = (df['T1'] + df['T2'] + df['T3'] + df['T4'])/4\n",
    "df"
   ]
  },
  {
   "cell_type": "code",
   "execution_count": null,
   "metadata": {
    "scrolled": false
   },
   "outputs": [],
   "source": [
    "df['another_avg'] = df.mean(1)\n",
    "df"
   ]
  },
  {
   "cell_type": "code",
   "execution_count": null,
   "metadata": {
    "scrolled": true
   },
   "outputs": [],
   "source": [
    "df = df.drop(['avg', 'another_avg', '4T'], axis=1)\n",
    "df"
   ]
  },
  {
   "cell_type": "markdown",
   "metadata": {},
   "source": [
    "### Working with DataFrames"
   ]
  },
  {
   "cell_type": "code",
   "execution_count": 4,
   "metadata": {},
   "outputs": [
    {
     "data": {
      "text/plain": [
       "T1    2.377187\n",
       "T2    1.235442\n",
       "T3    9.318733\n",
       "4T    5.789321\n",
       "Name: ST02, dtype: float64"
      ]
     },
     "execution_count": 4,
     "metadata": {},
     "output_type": "execute_result"
    }
   ],
   "source": [
    "st02 = df.loc['ST02']\n",
    "st02"
   ]
  },
  {
   "cell_type": "code",
   "execution_count": null,
   "metadata": {},
   "outputs": [],
   "source": [
    "type(st02)"
   ]
  },
  {
   "cell_type": "code",
   "execution_count": null,
   "metadata": {
    "scrolled": true
   },
   "outputs": [],
   "source": [
    "df.iloc[1]"
   ]
  },
  {
   "cell_type": "code",
   "execution_count": null,
   "metadata": {},
   "outputs": [],
   "source": [
    "df.loc['ST02']['T1']"
   ]
  },
  {
   "cell_type": "code",
   "execution_count": null,
   "metadata": {},
   "outputs": [],
   "source": [
    "df.iloc[1]['T1']"
   ]
  },
  {
   "cell_type": "code",
   "execution_count": null,
   "metadata": {
    "scrolled": true
   },
   "outputs": [],
   "source": [
    "df.loc[['ST02', 'ST03']][['T1', 'T2']]"
   ]
  },
  {
   "cell_type": "code",
   "execution_count": null,
   "metadata": {},
   "outputs": [],
   "source": [
    "df.loc[['ST02', 'ST03']]"
   ]
  },
  {
   "cell_type": "code",
   "execution_count": null,
   "metadata": {},
   "outputs": [],
   "source": [
    "df.iloc[[1, 4]][['T1', 'T2']]"
   ]
  },
  {
   "cell_type": "code",
   "execution_count": null,
   "metadata": {},
   "outputs": [],
   "source": [
    "df.iloc[[1, 4], [1, 2]]"
   ]
  },
  {
   "cell_type": "markdown",
   "metadata": {},
   "source": [
    "### Conditional selection"
   ]
  },
  {
   "cell_type": "code",
   "execution_count": null,
   "metadata": {},
   "outputs": [],
   "source": [
    "df"
   ]
  },
  {
   "cell_type": "code",
   "execution_count": null,
   "metadata": {
    "scrolled": false
   },
   "outputs": [],
   "source": [
    "df[df > 3]"
   ]
  },
  {
   "cell_type": "code",
   "execution_count": null,
   "metadata": {},
   "outputs": [],
   "source": [
    "mean_T1 = df['T1'].mean()\n",
    "mean_T1"
   ]
  },
  {
   "cell_type": "code",
   "execution_count": null,
   "metadata": {
    "scrolled": false
   },
   "outputs": [],
   "source": [
    "df['T1'] > mean_T1"
   ]
  },
  {
   "cell_type": "code",
   "execution_count": null,
   "metadata": {},
   "outputs": [],
   "source": [
    "df['T1']"
   ]
  },
  {
   "cell_type": "code",
   "execution_count": null,
   "metadata": {},
   "outputs": [],
   "source": [
    "df[df['T1'] > mean_T1]"
   ]
  },
  {
   "cell_type": "code",
   "execution_count": null,
   "metadata": {},
   "outputs": [],
   "source": [
    "df[(df['T1'] > 5) and (df['T2'] > 5)]\n",
    "df[(df['T1'] > 5) or (df['T2'] > 5)]"
   ]
  },
  {
   "cell_type": "code",
   "execution_count": null,
   "metadata": {},
   "outputs": [],
   "source": [
    "df[(df['T1'] > 2) & (df['T2'] > 2)]"
   ]
  },
  {
   "cell_type": "code",
   "execution_count": null,
   "metadata": {},
   "outputs": [],
   "source": [
    "df[(df['T1'] > 5) | (df['T2'] > 5)]"
   ]
  },
  {
   "cell_type": "markdown",
   "metadata": {},
   "source": [
    "###  Reset de Index"
   ]
  },
  {
   "cell_type": "code",
   "execution_count": 5,
   "metadata": {},
   "outputs": [
    {
     "name": "stdout",
     "output_type": "stream",
     "text": [
      "            T1        T2        T3        4T\n",
      "ST01  8.961115  2.720399  1.513139  0.799248\n",
      "ST02  2.377187  1.235442  9.318733  5.789321\n",
      "ST03  6.770715  0.472047  3.934520  7.213711\n",
      "ST04  5.913192  6.406353  4.089924  2.912775\n",
      "ST05  8.525748  1.465387  4.434815  0.126454\n",
      "  index        T1        T2        T3        4T\n",
      "0  ST01  8.961115  2.720399  1.513139  0.799248\n",
      "1  ST02  2.377187  1.235442  9.318733  5.789321\n",
      "2  ST03  6.770715  0.472047  3.934520  7.213711\n",
      "3  ST04  5.913192  6.406353  4.089924  2.912775\n",
      "4  ST05  8.525748  1.465387  4.434815  0.126454\n"
     ]
    }
   ],
   "source": [
    "print(df)\n",
    "df = df.reset_index(drop=False)\n",
    "print(df)"
   ]
  },
  {
   "cell_type": "code",
   "execution_count": 6,
   "metadata": {},
   "outputs": [
    {
     "data": {
      "text/html": [
       "<div>\n",
       "<style scoped>\n",
       "    .dataframe tbody tr th:only-of-type {\n",
       "        vertical-align: middle;\n",
       "    }\n",
       "\n",
       "    .dataframe tbody tr th {\n",
       "        vertical-align: top;\n",
       "    }\n",
       "\n",
       "    .dataframe thead th {\n",
       "        text-align: right;\n",
       "    }\n",
       "</style>\n",
       "<table border=\"1\" class=\"dataframe\">\n",
       "  <thead>\n",
       "    <tr style=\"text-align: right;\">\n",
       "      <th></th>\n",
       "      <th>index</th>\n",
       "      <th>T1</th>\n",
       "      <th>T2</th>\n",
       "      <th>T3</th>\n",
       "      <th>4T</th>\n",
       "    </tr>\n",
       "    <tr>\n",
       "      <th>STs</th>\n",
       "      <th></th>\n",
       "      <th></th>\n",
       "      <th></th>\n",
       "      <th></th>\n",
       "      <th></th>\n",
       "    </tr>\n",
       "  </thead>\n",
       "  <tbody>\n",
       "    <tr>\n",
       "      <th>ST06</th>\n",
       "      <td>ST01</td>\n",
       "      <td>8.961115</td>\n",
       "      <td>2.720399</td>\n",
       "      <td>1.513139</td>\n",
       "      <td>0.799248</td>\n",
       "    </tr>\n",
       "    <tr>\n",
       "      <th>ST07</th>\n",
       "      <td>ST02</td>\n",
       "      <td>2.377187</td>\n",
       "      <td>1.235442</td>\n",
       "      <td>9.318733</td>\n",
       "      <td>5.789321</td>\n",
       "    </tr>\n",
       "    <tr>\n",
       "      <th>ST08</th>\n",
       "      <td>ST03</td>\n",
       "      <td>6.770715</td>\n",
       "      <td>0.472047</td>\n",
       "      <td>3.934520</td>\n",
       "      <td>7.213711</td>\n",
       "    </tr>\n",
       "    <tr>\n",
       "      <th>ST09</th>\n",
       "      <td>ST04</td>\n",
       "      <td>5.913192</td>\n",
       "      <td>6.406353</td>\n",
       "      <td>4.089924</td>\n",
       "      <td>2.912775</td>\n",
       "    </tr>\n",
       "    <tr>\n",
       "      <th>ST10</th>\n",
       "      <td>ST05</td>\n",
       "      <td>8.525748</td>\n",
       "      <td>1.465387</td>\n",
       "      <td>4.434815</td>\n",
       "      <td>0.126454</td>\n",
       "    </tr>\n",
       "  </tbody>\n",
       "</table>\n",
       "</div>"
      ],
      "text/plain": [
       "     index        T1        T2        T3        4T\n",
       "STs                                               \n",
       "ST06  ST01  8.961115  2.720399  1.513139  0.799248\n",
       "ST07  ST02  2.377187  1.235442  9.318733  5.789321\n",
       "ST08  ST03  6.770715  0.472047  3.934520  7.213711\n",
       "ST09  ST04  5.913192  6.406353  4.089924  2.912775\n",
       "ST10  ST05  8.525748  1.465387  4.434815  0.126454"
      ]
     },
     "execution_count": 6,
     "metadata": {},
     "output_type": "execute_result"
    }
   ],
   "source": [
    "other_students = ['ST06','ST07','ST08','ST09','ST10']\n",
    "df['STs'] = other_students\n",
    "df = df.set_index('STs', drop=True)\n",
    "df"
   ]
  },
  {
   "cell_type": "code",
   "execution_count": 7,
   "metadata": {},
   "outputs": [
    {
     "data": {
      "text/html": [
       "<div>\n",
       "<style scoped>\n",
       "    .dataframe tbody tr th:only-of-type {\n",
       "        vertical-align: middle;\n",
       "    }\n",
       "\n",
       "    .dataframe tbody tr th {\n",
       "        vertical-align: top;\n",
       "    }\n",
       "\n",
       "    .dataframe thead th {\n",
       "        text-align: right;\n",
       "    }\n",
       "</style>\n",
       "<table border=\"1\" class=\"dataframe\">\n",
       "  <thead>\n",
       "    <tr style=\"text-align: right;\">\n",
       "      <th></th>\n",
       "      <th></th>\n",
       "      <th>C1</th>\n",
       "      <th>C2</th>\n",
       "      <th>C3</th>\n",
       "    </tr>\n",
       "  </thead>\n",
       "  <tbody>\n",
       "    <tr>\n",
       "      <th rowspan=\"3\" valign=\"top\">ST01</th>\n",
       "      <th>T1</th>\n",
       "      <td>9.785823</td>\n",
       "      <td>4.546282</td>\n",
       "      <td>2.337284</td>\n",
       "    </tr>\n",
       "    <tr>\n",
       "      <th>T2</th>\n",
       "      <td>9.237046</td>\n",
       "      <td>1.200976</td>\n",
       "      <td>2.242089</td>\n",
       "    </tr>\n",
       "    <tr>\n",
       "      <th>T3</th>\n",
       "      <td>2.359657</td>\n",
       "      <td>3.474304</td>\n",
       "      <td>8.244941</td>\n",
       "    </tr>\n",
       "    <tr>\n",
       "      <th rowspan=\"3\" valign=\"top\">ST02</th>\n",
       "      <th>T1</th>\n",
       "      <td>3.009632</td>\n",
       "      <td>5.619188</td>\n",
       "      <td>0.913635</td>\n",
       "    </tr>\n",
       "    <tr>\n",
       "      <th>T2</th>\n",
       "      <td>6.625141</td>\n",
       "      <td>4.978116</td>\n",
       "      <td>5.746590</td>\n",
       "    </tr>\n",
       "    <tr>\n",
       "      <th>T3</th>\n",
       "      <td>9.579457</td>\n",
       "      <td>0.513822</td>\n",
       "      <td>9.619716</td>\n",
       "    </tr>\n",
       "  </tbody>\n",
       "</table>\n",
       "</div>"
      ],
      "text/plain": [
       "               C1        C2        C3\n",
       "ST01 T1  9.785823  4.546282  2.337284\n",
       "     T2  9.237046  1.200976  2.242089\n",
       "     T3  2.359657  3.474304  8.244941\n",
       "ST02 T1  3.009632  5.619188  0.913635\n",
       "     T2  6.625141  4.978116  5.746590\n",
       "     T3  9.579457  0.513822  9.619716"
      ]
     },
     "execution_count": 7,
     "metadata": {},
     "output_type": "execute_result"
    }
   ],
   "source": [
    "#\n",
    "students = ['ST01','ST01','ST01','ST02','ST02','ST02']\n",
    "tests =['T1','T2','T3','T1','T2','T3']\n",
    "advanced_index = list(zip(students, tests))\n",
    "# print(advanced_index)\n",
    "advanced_index = pd.MultiIndex.from_tuples(advanced_index)\n",
    "\n",
    "grades = np.random.rand(6, 3)*10\n",
    "\n",
    "courses = ['C1','C2','C3']\n",
    "\n",
    "advanced_df = pd.DataFrame(grades, advanced_index, courses)\n",
    "advanced_df"
   ]
  },
  {
   "cell_type": "code",
   "execution_count": null,
   "metadata": {},
   "outputs": [],
   "source": [
    "advanced_df.index.names = ['Students','Tests']\n",
    "advanced_df"
   ]
  },
  {
   "cell_type": "code",
   "execution_count": null,
   "metadata": {},
   "outputs": [],
   "source": [
    "grades_st_1 = advanced_df.loc['ST01']\n",
    "grades_st_1"
   ]
  },
  {
   "cell_type": "code",
   "execution_count": null,
   "metadata": {
    "scrolled": true
   },
   "outputs": [],
   "source": [
    "type(grades_st_1)"
   ]
  },
  {
   "cell_type": "code",
   "execution_count": null,
   "metadata": {
    "scrolled": false
   },
   "outputs": [],
   "source": [
    "grades_st_1.loc['T1']\n",
    "type(grades_st_1.loc['T1'])"
   ]
  },
  {
   "cell_type": "code",
   "execution_count": null,
   "metadata": {
    "scrolled": true
   },
   "outputs": [],
   "source": [
    "grades_st_1_t_2 = advanced_df.loc['ST01'].loc['T2']\n",
    "grades_st_1_t_2"
   ]
  },
  {
   "cell_type": "code",
   "execution_count": null,
   "metadata": {},
   "outputs": [],
   "source": [
    "type(grades_st_1_t_2)"
   ]
  },
  {
   "cell_type": "code",
   "execution_count": null,
   "metadata": {},
   "outputs": [],
   "source": [
    "advanced_df.xs('ST01')"
   ]
  },
  {
   "cell_type": "code",
   "execution_count": null,
   "metadata": {
    "scrolled": false
   },
   "outputs": [],
   "source": [
    "advanced_df.xs('T1', level='Tests')"
   ]
  },
  {
   "cell_type": "markdown",
   "metadata": {},
   "source": [
    "### Data cleaning"
   ]
  },
  {
   "cell_type": "code",
   "execution_count": null,
   "metadata": {},
   "outputs": [],
   "source": [
    "dict_a = {'X':[1, np.nan, np.nan],'Y':[2, 4, np.nan],'Z':[3, 4, 4],}\n",
    "df3 = pd.DataFrame(dict_a)\n",
    "df3"
   ]
  },
  {
   "cell_type": "code",
   "execution_count": null,
   "metadata": {},
   "outputs": [],
   "source": [
    "df3.dropna()"
   ]
  },
  {
   "cell_type": "code",
   "execution_count": null,
   "metadata": {
    "scrolled": true
   },
   "outputs": [],
   "source": [
    "df3.dropna(axis=1)"
   ]
  },
  {
   "cell_type": "code",
   "execution_count": null,
   "metadata": {},
   "outputs": [],
   "source": [
    "df3.dropna(thresh=2)"
   ]
  },
  {
   "cell_type": "code",
   "execution_count": null,
   "metadata": {},
   "outputs": [],
   "source": [
    "df3.fillna(3)"
   ]
  },
  {
   "cell_type": "code",
   "execution_count": null,
   "metadata": {},
   "outputs": [],
   "source": [
    "df3.fillna(pd.Series({'X':1,'Y':2,'Z':3}))"
   ]
  },
  {
   "cell_type": "code",
   "execution_count": null,
   "metadata": {},
   "outputs": [],
   "source": [
    "df3['Y'].fillna(df3['Y'].mean())"
   ]
  },
  {
   "cell_type": "code",
   "execution_count": null,
   "metadata": {
    "scrolled": true
   },
   "outputs": [],
   "source": [
    "df3.fillna(df3.mean())"
   ]
  },
  {
   "cell_type": "markdown",
   "metadata": {},
   "source": [
    "### Grouping"
   ]
  },
  {
   "cell_type": "code",
   "execution_count": null,
   "metadata": {},
   "outputs": [],
   "source": [
    "dict_b = {'Method':['KNN', 'SVR', 'ANN', 'KNN', 'SVR', 'ANN'],\n",
    "        'Scenario':['S1', 'S2', 'S1', 'S2', 'S1', 'S2'],\n",
    "        'Error':[2.1, 2.1, 1.5, 1.7, 1.8, 1.9]}\n",
    "df4 = pd.DataFrame(dict_b)\n",
    "df4"
   ]
  },
  {
   "cell_type": "code",
   "execution_count": null,
   "metadata": {},
   "outputs": [],
   "source": [
    "byScenario = df4.groupby('Scenario')\n",
    "print(byScenario)"
   ]
  },
  {
   "cell_type": "code",
   "execution_count": null,
   "metadata": {},
   "outputs": [],
   "source": [
    "byScenario.mean()"
   ]
  },
  {
   "cell_type": "code",
   "execution_count": null,
   "metadata": {},
   "outputs": [],
   "source": [
    "byScenario.sum()"
   ]
  },
  {
   "cell_type": "code",
   "execution_count": null,
   "metadata": {},
   "outputs": [],
   "source": [
    "byScenario.min()"
   ]
  },
  {
   "cell_type": "code",
   "execution_count": null,
   "metadata": {},
   "outputs": [],
   "source": [
    "byScenario.max()"
   ]
  },
  {
   "cell_type": "markdown",
   "metadata": {},
   "source": [
    "### Joins"
   ]
  },
  {
   "cell_type": "code",
   "execution_count": null,
   "metadata": {},
   "outputs": [],
   "source": [
    "df_j1 = pd.DataFrame({'A':['A0', 'A1', 'A2'],'B':['B0', 'B1', 'B2']}, index=[0, 1, 2])\n",
    "df_j1"
   ]
  },
  {
   "cell_type": "code",
   "execution_count": null,
   "metadata": {},
   "outputs": [],
   "source": [
    "df_j2 = pd.DataFrame({'A':['A3', 'A4', 'A5'],'B':['B3', 'B4', 'B5']},index=[3, 4, 5])\n",
    "df_j2"
   ]
  },
  {
   "cell_type": "code",
   "execution_count": null,
   "metadata": {},
   "outputs": [],
   "source": [
    "pd.concat([df_j1, df_j2])"
   ]
  },
  {
   "cell_type": "code",
   "execution_count": null,
   "metadata": {},
   "outputs": [],
   "source": [
    "pd.concat([df_j1, df_j2], axis=1)"
   ]
  },
  {
   "cell_type": "code",
   "execution_count": null,
   "metadata": {},
   "outputs": [],
   "source": [
    "left = pd.DataFrame({'country':['01','02','03'],'name':['Brazil','France','Japan']})\n",
    "right =  pd.DataFrame({'country':['01','02','03'],'continent':['SA','EU','AS']})\n",
    "df5 = pd.merge(left, right, how='inner', on='country')\n",
    "df5"
   ]
  },
  {
   "cell_type": "code",
   "execution_count": null,
   "metadata": {},
   "outputs": [],
   "source": [
    "left_2 = pd.DataFrame({'key1':['K0','K1'],\n",
    "                     'key2':['K0','K0'],\n",
    "                     'A':['A00','A10'],\n",
    "                     'B':['B00','B10']})\n",
    "right_2 = pd.DataFrame({'key1':['K0','K1'],\n",
    "                     'key2':['K0','K1'],\n",
    "                     'C':['C00','C11'],\n",
    "                     'D':['D00','D11']})\n",
    "print(left_2)\n",
    "print(right_2)\n",
    "df6 = pd.merge(left_2, right_2, how='inner', on=['key1','key2'])\n",
    "df6"
   ]
  },
  {
   "cell_type": "code",
   "execution_count": null,
   "metadata": {
    "scrolled": true
   },
   "outputs": [],
   "source": [
    "left_3 = pd.DataFrame({'key1':['K0','K1'],\n",
    "                     'key2':['K0','K0'],\n",
    "                     'A':['A00','A10'],\n",
    "                     'B':['B00','B10']})\n",
    "right_3 = pd.DataFrame({'key1':['K0','K1'],\n",
    "                     'key2':['K0','K1'],\n",
    "                     'C':['C00','C11'],\n",
    "                     'D':['D00','D11']})\n",
    "df7 = pd.merge(left_3, right_3, how='right', on=['key1','key2'])\n",
    "df7"
   ]
  },
  {
   "cell_type": "code",
   "execution_count": null,
   "metadata": {
    "scrolled": false
   },
   "outputs": [],
   "source": [
    "df8 = pd.merge(left_3, right_3, how='outer', on=['key1','key2'])\n",
    "df8"
   ]
  },
  {
   "cell_type": "code",
   "execution_count": null,
   "metadata": {},
   "outputs": [],
   "source": [
    "left_4 = pd.DataFrame({'A':['A0', 'A1'], 'B':['B0', 'B1']}, index=['k0', 'k1'])\n",
    "right_4 = pd.DataFrame({'C':['C0', 'C1'], 'D':['D0', 'D1']}, index=['k0', 'k1'])\n",
    "print(left_4)\n",
    "print(right_4)\n",
    "left_3.join(right_3)"
   ]
  },
  {
   "cell_type": "code",
   "execution_count": null,
   "metadata": {},
   "outputs": [],
   "source": [
    "left_4.join(right_4, how='inner')"
   ]
  },
  {
   "cell_type": "markdown",
   "metadata": {},
   "source": [
    "### Methods - https://pandas.pydata.org/pandas-docs/stable/reference/frame.html"
   ]
  },
  {
   "cell_type": "code",
   "execution_count": null,
   "metadata": {},
   "outputs": [],
   "source": [
    "final_df = pd.DataFrame({'A':[1, 2, 3, 4],'B':[222, 555, 244, 222],'C':['ab', 'cd', 'ef', 'gh']})\n",
    "final_df"
   ]
  },
  {
   "cell_type": "code",
   "execution_count": null,
   "metadata": {},
   "outputs": [],
   "source": [
    "final_df['B'].unique()"
   ]
  },
  {
   "cell_type": "code",
   "execution_count": null,
   "metadata": {
    "scrolled": true
   },
   "outputs": [],
   "source": [
    "print(len(final_df['B'].unique()), final_df['B'].nunique())"
   ]
  },
  {
   "cell_type": "code",
   "execution_count": null,
   "metadata": {},
   "outputs": [],
   "source": [
    "print(df7, '\\n')\n",
    "print(len(df7['B'].unique()), df7['B'].nunique())"
   ]
  },
  {
   "cell_type": "code",
   "execution_count": null,
   "metadata": {},
   "outputs": [],
   "source": [
    "final_df['B'].value_counts()"
   ]
  },
  {
   "cell_type": "code",
   "execution_count": null,
   "metadata": {},
   "outputs": [],
   "source": [
    "def pot(x,n=2):\n",
    "    return x**n"
   ]
  },
  {
   "cell_type": "code",
   "execution_count": null,
   "metadata": {
    "scrolled": false
   },
   "outputs": [],
   "source": [
    "final_df['A'].apply(pot)"
   ]
  },
  {
   "cell_type": "code",
   "execution_count": null,
   "metadata": {},
   "outputs": [],
   "source": [
    "final_df['C'].apply(len)"
   ]
  },
  {
   "cell_type": "code",
   "execution_count": null,
   "metadata": {},
   "outputs": [],
   "source": [
    "final_df['A'].apply(lambda x:x**2)"
   ]
  },
  {
   "cell_type": "code",
   "execution_count": null,
   "metadata": {
    "scrolled": true
   },
   "outputs": [],
   "source": [
    "final_df.sort_values('B')"
   ]
  },
  {
   "cell_type": "code",
   "execution_count": null,
   "metadata": {},
   "outputs": [],
   "source": []
  }
 ],
 "metadata": {
  "kernelspec": {
   "display_name": "Python 3",
   "language": "python",
   "name": "python3"
  },
  "language_info": {
   "codemirror_mode": {
    "name": "ipython",
    "version": 3
   },
   "file_extension": ".py",
   "mimetype": "text/x-python",
   "name": "python",
   "nbconvert_exporter": "python",
   "pygments_lexer": "ipython3",
   "version": "3.7.1"
  }
 },
 "nbformat": 4,
 "nbformat_minor": 2
}
